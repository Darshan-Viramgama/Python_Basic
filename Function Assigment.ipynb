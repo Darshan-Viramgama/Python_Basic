{
 "cells": [
  {
   "cell_type": "markdown",
   "id": "961b2de1",
   "metadata": {},
   "source": [
    "## Function Assignment"
   ]
  },
  {
   "cell_type": "markdown",
   "id": "23585668",
   "metadata": {},
   "source": [
    "### Q -1.Write a program that asks the user for two numbers. Then ask them if they would like to add, subtract, divide, or multiply these numbers. Perform the chosen operation on the values, showing the operation being performed. Write four functions, one for each mathematical operation.\n",
    "#### Example: add(), subtract(), Multiply(), and Divide() functions should be written to perform calculations.\n"
   ]
  },
  {
   "cell_type": "code",
   "execution_count": 3,
   "id": "30b7f0df",
   "metadata": {},
   "outputs": [],
   "source": [
    "def add(n1,n2):         \n",
    "    ''' it sums 2 number '''\n",
    "    add= n1+n2\n",
    "    return add\n",
    "def sub(n1,n2):         \n",
    "    ''' it subtracts 2 number '''\n",
    "    sub= n1-n2\n",
    "    return sub\n",
    "def multi(n1,n2):         \n",
    "    ''' it multiplies 2 number '''\n",
    "    multi= n1*n2\n",
    "    return multi\n",
    "def div(n1,n2):         \n",
    "    ''' it divides 2 number '''\n",
    "    div= n1/n2\n",
    "    return div"
   ]
  },
  {
   "cell_type": "code",
   "execution_count": 5,
   "id": "710a66cd",
   "metadata": {},
   "outputs": [
    {
     "name": "stdout",
     "output_type": "stream",
     "text": [
      "15\n",
      "5\n",
      "50\n",
      "2.0\n"
     ]
    }
   ],
   "source": [
    "print(add(10,5))\n",
    "print(sub(10,5))\n",
    "print(multi(10,5))\n",
    "print(div(10,5))\n"
   ]
  },
  {
   "cell_type": "markdown",
   "id": "5f2d42d3",
   "metadata": {},
   "source": [
    "### Q-2. Write a function called favorite_book() that accepts two parameter, title and author. The function should print a message, such as \"Ansi C by E Balagurusamy\". Call the function, make sure to include a book title and author as an argument in the function call.\n"
   ]
  },
  {
   "cell_type": "code",
   "execution_count": 6,
   "id": "d77ac2ba",
   "metadata": {},
   "outputs": [],
   "source": [
    "def fav_book(au,by):\n",
    "    print(f\"{au} by {by}\")"
   ]
  },
  {
   "cell_type": "code",
   "execution_count": 7,
   "id": "e94f70ac",
   "metadata": {},
   "outputs": [
    {
     "name": "stdout",
     "output_type": "stream",
     "text": [
      "Ansi C by E Balagurusamy\n"
     ]
    }
   ],
   "source": [
    "fav_book(\"Ansi C\", \"E Balagurusamy\")"
   ]
  },
  {
   "cell_type": "markdown",
   "id": "5023d16b",
   "metadata": {},
   "source": [
    "### Q-3. Write a function called is_leap() that accepts one parameter i.e. year. The function should check whether the year is a leap year or not.\n"
   ]
  },
  {
   "cell_type": "code",
   "execution_count": 10,
   "id": "ab438a02",
   "metadata": {},
   "outputs": [],
   "source": [
    "def is_leap(y):\n",
    "    if y%4==0:\n",
    "        print(f\"{y} is a leap year.\")\n",
    "    else:\n",
    "        print(f\"{y} is not a leap year\")"
   ]
  },
  {
   "cell_type": "code",
   "execution_count": 11,
   "id": "5a57c6f1",
   "metadata": {},
   "outputs": [
    {
     "name": "stdout",
     "output_type": "stream",
     "text": [
      "2024 is a leap year.\n"
     ]
    }
   ],
   "source": [
    "is_leap(2024)"
   ]
  },
  {
   "cell_type": "markdown",
   "id": "a5acad9d",
   "metadata": {},
   "source": [
    "### Q-4. Write a Python function to find the maximum of three numbers.\n"
   ]
  },
  {
   "cell_type": "code",
   "execution_count": 15,
   "id": "d537b102",
   "metadata": {},
   "outputs": [],
   "source": [
    "def n_max(nums,n):\n",
    "    nums_list=sorted(list(nums),reverse=True)\n",
    "    max_n=[]\n",
    "    for i in range(n):\n",
    "        max_n.append(nums_list[i])\n",
    "    print(tuple(max_n))"
   ]
  },
  {
   "cell_type": "code",
   "execution_count": 16,
   "id": "8ab760a5",
   "metadata": {},
   "outputs": [
    {
     "name": "stdout",
     "output_type": "stream",
     "text": [
      "(54, 42, 42)\n"
     ]
    }
   ],
   "source": [
    "n=(2,3,34,2,4,12,4,1,42,4,21,42,54)\n",
    "n_max(n,3)"
   ]
  },
  {
   "cell_type": "markdown",
   "id": "c7b725e7",
   "metadata": {},
   "source": [
    "### Q-5. Write a Python function to multiply all the numbers in a list.\n",
    "#### Sample List : (8, 2, 3, -1, 7)\n",
    "#### Expected Output : -336\n"
   ]
  },
  {
   "cell_type": "code",
   "execution_count": 25,
   "id": "9c2cff63",
   "metadata": {},
   "outputs": [],
   "source": [
    "def prod(n):\n",
    "    m=1\n",
    "    for i in n:\n",
    "        m*=i\n",
    "    print(m)"
   ]
  },
  {
   "cell_type": "code",
   "execution_count": 26,
   "id": "7343ede5",
   "metadata": {},
   "outputs": [
    {
     "name": "stdout",
     "output_type": "stream",
     "text": [
      "-336\n"
     ]
    }
   ],
   "source": [
    "n=[8,2,3,-1,7]\n",
    "prod(n)"
   ]
  },
  {
   "cell_type": "markdown",
   "id": "5b28fbae",
   "metadata": {},
   "source": [
    "### Q-6. Write a Python program to reverse a string.\n",
    "#### Sample String : \"1234abcd\"\n",
    "#### Expected Output : \"dcba4321\"\n"
   ]
  },
  {
   "cell_type": "code",
   "execution_count": 31,
   "id": "9994359d",
   "metadata": {},
   "outputs": [],
   "source": [
    "def rev(st):\n",
    "    print(st[::-1])"
   ]
  },
  {
   "cell_type": "code",
   "execution_count": 32,
   "id": "d65637a0",
   "metadata": {},
   "outputs": [
    {
     "name": "stdout",
     "output_type": "stream",
     "text": [
      "nahsraD\n"
     ]
    }
   ],
   "source": [
    "rev(\"Darshan\")"
   ]
  },
  {
   "cell_type": "markdown",
   "id": "c1a6967d",
   "metadata": {},
   "source": [
    "### Q-7. Write a Python function to calculate the factorial of a number (a non-negative integer). The function accepts the number as an argument.\n"
   ]
  },
  {
   "cell_type": "code",
   "execution_count": 35,
   "id": "139aeef9",
   "metadata": {},
   "outputs": [],
   "source": [
    "def factorial(n):\n",
    "    f=1\n",
    "    for i in range(1,n+1):\n",
    "        f*=i\n",
    "    print(f)"
   ]
  },
  {
   "cell_type": "code",
   "execution_count": 36,
   "id": "3b8a93c3",
   "metadata": {},
   "outputs": [
    {
     "name": "stdout",
     "output_type": "stream",
     "text": [
      "120\n"
     ]
    }
   ],
   "source": [
    "factorial(5)"
   ]
  },
  {
   "cell_type": "markdown",
   "id": "87d668e9",
   "metadata": {},
   "source": [
    "### Q-8. Write a Python function that accepts a string and counts the number of upper and lower case letters.\n",
    "#### Sample String : 'The quick Brow Fox'\n",
    "#### Expected Output :\n",
    "#### No. of Upper case characters : 3\n",
    "#### No. of Lower case Characters : 12\n"
   ]
  },
  {
   "cell_type": "code",
   "execution_count": 37,
   "id": "95e1b114",
   "metadata": {},
   "outputs": [],
   "source": [
    "def uplo(st):\n",
    "    up=\"QWERTYUIOPASDFGHJKLZXCVBNM\"\n",
    "    lo=\"qwertyuiopasdfghjklzxcvbnm\"\n",
    "    nup=0\n",
    "    nlo=0\n",
    "    for i in st:\n",
    "        if i in up:\n",
    "            nup+=1\n",
    "        if i in lo:\n",
    "            nlo+=1\n",
    "    print(f\"No. of Upper case characters : {nup}\")\n",
    "    print(f\"No. of Lower case Characters : {nlo}\")"
   ]
  },
  {
   "cell_type": "code",
   "execution_count": 38,
   "id": "80afa74e",
   "metadata": {},
   "outputs": [
    {
     "name": "stdout",
     "output_type": "stream",
     "text": [
      "No. of Upper case characters : 3\n",
      "No. of Lower case Characters : 12\n"
     ]
    }
   ],
   "source": [
    "uplo('The quick Brow Fox')"
   ]
  },
  {
   "cell_type": "markdown",
   "id": "ae5cdd7c",
   "metadata": {},
   "source": [
    "### Q-9. Write a Python function that takes a list and returns a new list with distinct elements from the first list.\n"
   ]
  },
  {
   "cell_type": "code",
   "execution_count": 42,
   "id": "1826b475",
   "metadata": {},
   "outputs": [],
   "source": [
    "def dist(l):\n",
    "    s=set(l)\n",
    "    ll=list(s)\n",
    "    print(ll)"
   ]
  },
  {
   "cell_type": "code",
   "execution_count": 44,
   "id": "712c6544",
   "metadata": {},
   "outputs": [
    {
     "name": "stdout",
     "output_type": "stream",
     "text": [
      "[True, 'Viramgama', 'Darshan', 22]\n"
     ]
    }
   ],
   "source": [
    "l=[\"Darshan\",22,True,\"Viramgama\",22,\"Darshan\"]\n",
    "dist(l)"
   ]
  },
  {
   "cell_type": "markdown",
   "id": "e9ab19f2",
   "metadata": {},
   "source": [
    "### Q-10. Write a Python program to print the even numbers from a given list.\n"
   ]
  },
  {
   "cell_type": "code",
   "execution_count": 47,
   "id": "4fd47c06",
   "metadata": {},
   "outputs": [],
   "source": [
    "def even(l):\n",
    "    el=[]\n",
    "    for i in l:\n",
    "        if i%2 == 0:\n",
    "            el.append(i)\n",
    "    print(el)"
   ]
  },
  {
   "cell_type": "code",
   "execution_count": 81,
   "id": "30318ae0",
   "metadata": {},
   "outputs": [
    {
     "name": "stdout",
     "output_type": "stream",
     "text": [
      "[4, 2, 4, 4, 36]\n"
     ]
    }
   ],
   "source": [
    "l=[23,4,2,4,4,36,5,67,3,3,5,7]\n",
    "even(l)"
   ]
  },
  {
   "cell_type": "markdown",
   "id": "c6daa4e4",
   "metadata": {},
   "source": [
    "### Q-11. Write a Python function that checks whether a passed string is a palindrome or not.\n",
    "#### Note: A palindrome is a word, phrase, or sequence that reads the same backward as forward, e.g., madam or nurses run.\n"
   ]
  },
  {
   "cell_type": "code",
   "execution_count": 55,
   "id": "747298cb",
   "metadata": {},
   "outputs": [],
   "source": [
    "def is_palindrome(st):\n",
    "    stt=st.lower()\n",
    "    ts=stt[::-1]\n",
    "    if stt==ts:\n",
    "        print(f\"{st} is a palindrome\")\n",
    "    else:\n",
    "        print(f\"{st} is not a palindrome\")"
   ]
  },
  {
   "cell_type": "code",
   "execution_count": 56,
   "id": "1f5bbfb1",
   "metadata": {},
   "outputs": [
    {
     "name": "stdout",
     "output_type": "stream",
     "text": [
      "Madam is a palindrome\n"
     ]
    }
   ],
   "source": [
    "is_palindrome(\"Madam\")"
   ]
  },
  {
   "cell_type": "markdown",
   "id": "1dae07b5",
   "metadata": {},
   "source": [
    "### Q-12. Write a Python function to check whether a string is a pangram or not.\n",
    "#### Note : Pangrams are words or sentences containing every letter of the alphabet at least once.\n",
    "#### For example : \"The quick brown fox jumps over the lazy dog\"\n"
   ]
  },
  {
   "cell_type": "code",
   "execution_count": 63,
   "id": "d61bf498",
   "metadata": {},
   "outputs": [],
   "source": [
    "def is_pangram(st):\n",
    "    al=\"qwertyuiopasdfghjklzxcvbnm\"\n",
    "    stt=st.lower()\n",
    "    n=0\n",
    "    for i in al:\n",
    "        if i not in stt:\n",
    "            print(\"Sentence is not a pangram.\")\n",
    "            break\n",
    "        else:\n",
    "            n+=1\n",
    "        if n==26:\n",
    "            print(\"Sentence is pangram\")\n",
    "            "
   ]
  },
  {
   "cell_type": "code",
   "execution_count": 66,
   "id": "98c5f77e",
   "metadata": {},
   "outputs": [
    {
     "name": "stdout",
     "output_type": "stream",
     "text": [
      "Sentence is pangram\n"
     ]
    }
   ],
   "source": [
    "is_pangram(\"The quick brown fox jumps over the lazy dog\")"
   ]
  },
  {
   "cell_type": "markdown",
   "id": "fa4ad6fb",
   "metadata": {},
   "source": [
    "### Q-13. Write a Python program that accepts a hyphen-separated sequence of words as input and prints the words in a hyphen-separated sequence after sorting them alphabetically.\n",
    "#### Sample Items : green-red-yellow-black-white\n",
    "#### Expected Result : black-green-red-white-yellow\n"
   ]
  },
  {
   "cell_type": "code",
   "execution_count": 82,
   "id": "7969be4f",
   "metadata": {},
   "outputs": [],
   "source": [
    "def sortbyhyphen(st):\n",
    "    sp=st.split(\"-\")\n",
    "    sp=tuple(sorted(sp))\n",
    "    sp=\"-\".join(sp)\n",
    "    print(sp)"
   ]
  },
  {
   "cell_type": "code",
   "execution_count": 84,
   "id": "c5104420",
   "metadata": {},
   "outputs": [
    {
     "name": "stdout",
     "output_type": "stream",
     "text": [
      "black-green-red-white-yellow\n"
     ]
    }
   ],
   "source": [
    "sortbyhyphen(\"green-red-yellow-black-white\")"
   ]
  },
  {
   "cell_type": "markdown",
   "id": "9725f3f0",
   "metadata": {},
   "source": [
    "### Q-14. Write a Python function to create and print a list where the values are the squares of numbers between 1 and 30 (both included).\n"
   ]
  },
  {
   "cell_type": "code",
   "execution_count": 85,
   "id": "877e3f25",
   "metadata": {},
   "outputs": [],
   "source": [
    "def sqr(n):\n",
    "    sq=[]\n",
    "    for i in range(1,n+1):\n",
    "        sq.append(i**2)\n",
    "    print(sq)\n",
    "    "
   ]
  },
  {
   "cell_type": "code",
   "execution_count": 86,
   "id": "024c37ec",
   "metadata": {},
   "outputs": [
    {
     "name": "stdout",
     "output_type": "stream",
     "text": [
      "[1, 4, 9, 16, 25, 36, 49, 64, 81, 100, 121, 144, 169, 196, 225, 256, 289, 324, 361, 400, 441, 484, 529, 576, 625, 676, 729, 784, 841, 900]\n"
     ]
    }
   ],
   "source": [
    "sqr(30)"
   ]
  },
  {
   "cell_type": "markdown",
   "id": "34bcdc60",
   "metadata": {},
   "source": [
    "### Q-15. Write a program to create a function show_employee() using the following conditions.\n",
    "#### It should accept the employee’s name and salary and display both.\n",
    "#### If the salary is missing in the function call then assign default value 9000 to salary\n"
   ]
  },
  {
   "cell_type": "code",
   "execution_count": 87,
   "id": "3fb2a683",
   "metadata": {},
   "outputs": [],
   "source": [
    "def show_employee(n,s=9000):\n",
    "    print(f\"Employee name: {n} and Salary: {s}\")"
   ]
  },
  {
   "cell_type": "code",
   "execution_count": 88,
   "id": "63baa303",
   "metadata": {},
   "outputs": [
    {
     "name": "stdout",
     "output_type": "stream",
     "text": [
      "Employee name: Darshan and Salary: 9000\n"
     ]
    }
   ],
   "source": [
    "show_employee(\"Darshan\")"
   ]
  },
  {
   "cell_type": "markdown",
   "id": "7b571d6d",
   "metadata": {},
   "source": [
    "### Q-16. Write a program to swap two numbers.\n",
    "#### Before swap : 17 24\n",
    "#### After swap : 24 17\n"
   ]
  },
  {
   "cell_type": "code",
   "execution_count": 91,
   "id": "6f9f9435",
   "metadata": {},
   "outputs": [],
   "source": [
    "def SwapTwoNumbers(a,b):\n",
    "    print(\"Before Swap: \",a,b)\n",
    "    a = a+b\n",
    "    b = a-b\n",
    "    a = a-b\n",
    "    print(\"After Swap: \",a,b)"
   ]
  },
  {
   "cell_type": "code",
   "execution_count": 92,
   "id": "cb580c13",
   "metadata": {},
   "outputs": [
    {
     "name": "stdout",
     "output_type": "stream",
     "text": [
      "Before Swap:  17 24\n",
      "After Swap:  24 17\n"
     ]
    }
   ],
   "source": [
    "SwapTwoNumbers(17,24)"
   ]
  }
 ],
 "metadata": {
  "kernelspec": {
   "display_name": "Python 3 (ipykernel)",
   "language": "python",
   "name": "python3"
  },
  "language_info": {
   "codemirror_mode": {
    "name": "ipython",
    "version": 3
   },
   "file_extension": ".py",
   "mimetype": "text/x-python",
   "name": "python",
   "nbconvert_exporter": "python",
   "pygments_lexer": "ipython3",
   "version": "3.11.5"
  }
 },
 "nbformat": 4,
 "nbformat_minor": 5
}
