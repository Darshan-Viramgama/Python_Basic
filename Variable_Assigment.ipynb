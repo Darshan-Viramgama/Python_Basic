{
 "cells": [
  {
   "cell_type": "markdown",
   "id": "86ab084e",
   "metadata": {},
   "source": [
    "## Variable Assigment"
   ]
  },
  {
   "cell_type": "markdown",
   "id": "5c2ccae5",
   "metadata": {},
   "source": [
    "### 1. Write a python program to calculate the area of a rectangle given its length and width.\n"
   ]
  },
  {
   "cell_type": "code",
   "execution_count": 4,
   "id": "ee37cafc",
   "metadata": {},
   "outputs": [
    {
     "name": "stdout",
     "output_type": "stream",
     "text": [
      "Enter Length12\n",
      "Enter Breadth8\n"
     ]
    },
    {
     "data": {
      "text/plain": [
       "96"
      ]
     },
     "execution_count": 4,
     "metadata": {},
     "output_type": "execute_result"
    }
   ],
   "source": [
    "l=input(\"Enter Length\")\n",
    "b=input(\"Enter Breadth\")\n",
    "area= int(l)*int(b)\n",
    "area"
   ]
  },
  {
   "cell_type": "markdown",
   "id": "60e5f8f4",
   "metadata": {},
   "source": [
    "### 2. Create a Program that takes a user's name and birth year as input and prints a greeting message.\n",
    "#### I/P: Enter User Name : Darshan\n",
    "#### Enter Year of Birth : 2002\n",
    "#### O/P: Hi Darshan, Today you are 22 years Old, Welcome!\n"
   ]
  },
  {
   "cell_type": "code",
   "execution_count": 8,
   "id": "249ead99",
   "metadata": {},
   "outputs": [
    {
     "name": "stdout",
     "output_type": "stream",
     "text": [
      "Enter your nameDarshan Viramgama\n",
      "Enter your birth year2002\n"
     ]
    },
    {
     "data": {
      "text/plain": [
       "'Hi Darshan Viramgama, today you are 22 years old, welcome!'"
      ]
     },
     "execution_count": 8,
     "metadata": {},
     "output_type": "execute_result"
    }
   ],
   "source": [
    "name=input(\"Enter your name\")\n",
    "birth=input('Enter your birth year')\n",
    "age= 2024-int(birth)\n",
    "msg= f\"Hi {name}, today you are {age} years old, welcome!\"\n",
    "msg"
   ]
  },
  {
   "cell_type": "markdown",
   "id": "1f49dacf",
   "metadata": {},
   "source": [
    "### 3. Calculate the compound interest for a given principal amount, interest rate and time period.\n"
   ]
  },
  {
   "cell_type": "code",
   "execution_count": 14,
   "id": "ab249969",
   "metadata": {},
   "outputs": [
    {
     "data": {
      "text/plain": [
       "382.03200000000015"
      ]
     },
     "execution_count": 14,
     "metadata": {},
     "output_type": "execute_result"
    }
   ],
   "source": [
    "principle=2000\n",
    "rate= 6\n",
    "r=rate/100\n",
    "duration=3\n",
    "i= 1+r\n",
    "iid= i**duration\n",
    "a=principle*iid\n",
    "ci=a-principle\n",
    "ci"
   ]
  },
  {
   "cell_type": "markdown",
   "id": "5b13ad33",
   "metadata": {},
   "source": [
    "### 4. Implement a program that swaps the values of two variables with the help of third variable.\n"
   ]
  },
  {
   "cell_type": "code",
   "execution_count": 16,
   "id": "36493189",
   "metadata": {},
   "outputs": [
    {
     "data": {
      "text/plain": [
       "'5 3'"
      ]
     },
     "execution_count": 16,
     "metadata": {},
     "output_type": "execute_result"
    }
   ],
   "source": [
    "aa=3\n",
    "bb=5\n",
    "cc=aa\n",
    "aa=bb\n",
    "bb=cc\n",
    "str(aa)+\" \"+str(bb)"
   ]
  },
  {
   "cell_type": "markdown",
   "id": "a39c4ac2",
   "metadata": {},
   "source": [
    "### 5. Write a Python Program to calculate cube of the number\n"
   ]
  },
  {
   "cell_type": "code",
   "execution_count": 17,
   "id": "da90efec",
   "metadata": {},
   "outputs": [
    {
     "data": {
      "text/plain": [
       "125"
      ]
     },
     "execution_count": 17,
     "metadata": {},
     "output_type": "execute_result"
    }
   ],
   "source": [
    "aa**bb"
   ]
  },
  {
   "cell_type": "markdown",
   "id": "3f2b8175",
   "metadata": {},
   "source": [
    "### 6. Create variables for storing a Person's name, age and average test score.\n"
   ]
  },
  {
   "cell_type": "code",
   "execution_count": 18,
   "id": "742cede5",
   "metadata": {},
   "outputs": [
    {
     "name": "stdout",
     "output_type": "stream",
     "text": [
      "Enter your nameDarshan Viramgama\n",
      "Enter your age22\n",
      "Enter average test score99\n"
     ]
    }
   ],
   "source": [
    "na=input(\"Enter your name\")\n",
    "ag=input(\"Enter your age\")\n",
    "ac=input(\"Enter average test score\")"
   ]
  },
  {
   "cell_type": "markdown",
   "id": "ff314185",
   "metadata": {},
   "source": [
    "### 7. Create a Program that takes a temperature in Celcius and converts it to Kelvin.\n"
   ]
  },
  {
   "cell_type": "code",
   "execution_count": 20,
   "id": "4e7e3833",
   "metadata": {},
   "outputs": [
    {
     "name": "stdout",
     "output_type": "stream",
     "text": [
      "What's temperature out?28\n"
     ]
    },
    {
     "data": {
      "text/plain": [
       "'So its 7676.199999999999 kelvin'"
      ]
     },
     "execution_count": 20,
     "metadata": {},
     "output_type": "execute_result"
    }
   ],
   "source": [
    "temp=input(\"What's temperature out?\")\n",
    "kel=int(temp)*274.15\n",
    "keli=f\"So its {kel} kelvin\"\n",
    "keli"
   ]
  },
  {
   "cell_type": "markdown",
   "id": "7d25defc",
   "metadata": {},
   "source": [
    "### 8. Calculate the area and circumference of a circle given its radius.\n"
   ]
  },
  {
   "cell_type": "code",
   "execution_count": 6,
   "id": "c2667e36",
   "metadata": {},
   "outputs": [
    {
     "name": "stdout",
     "output_type": "stream",
     "text": [
      "Enter radius of a circle: 5\n",
      "Area of circle is 78.57 and circummference is 31.427999999999997\n"
     ]
    }
   ],
   "source": [
    "r=int(input(\"Enter radius of a circle: \"))\n",
    "c=2*3.1428*r\n",
    "a=3.1428*r**2\n",
    "print(f\"Area of circle is {a} and circummference is {c}\")"
   ]
  },
  {
   "cell_type": "markdown",
   "id": "8ccf23a6",
   "metadata": {},
   "source": [
    "### 9. Implement a Program that converts a given number of minutes into hours, minutes and seconds.\n",
    "\n"
   ]
  },
  {
   "cell_type": "code",
   "execution_count": 21,
   "id": "b3715592",
   "metadata": {},
   "outputs": [
    {
     "name": "stdout",
     "output_type": "stream",
     "text": [
      "Enter Second6000\n",
      "Hours: 1 Minutes: 40 Seconds: 0\n"
     ]
    }
   ],
   "source": [
    "Second= int(input(\"Enter Second\"))\n",
    "hours= Second//3600\n",
    "hreminder= Second%3600\n",
    "minutes=hreminder//60\n",
    "mreminder= hreminder%60\n",
    "seconds= mreminder\n",
    "print(\"Hours:\",hours,\"Minutes:\",minutes,\"Seconds:\",seconds) "
   ]
  },
  {
   "cell_type": "markdown",
   "id": "c18ec802",
   "metadata": {},
   "source": [
    "### 10. Write a Program that converts a given number of days into years, weeks, and days.\n"
   ]
  },
  {
   "cell_type": "code",
   "execution_count": 22,
   "id": "b001c6f5",
   "metadata": {},
   "outputs": [
    {
     "name": "stdout",
     "output_type": "stream",
     "text": [
      "Enter number of days637\n",
      "Year: 1 Weeks: 38 Days: 6\n"
     ]
    }
   ],
   "source": [
    "Day= int(input(\"Enter number of days\"))\n",
    "Year= Day//365\n",
    "Yreminder= Day%365\n",
    "Weeks= Yreminder//7\n",
    "Wreminder= Yreminder%7\n",
    "Days= Wreminder\n",
    "print(\"Year:\",Year,\"Weeks:\", Weeks,\"Days:\", Days)"
   ]
  },
  {
   "cell_type": "markdown",
   "id": "ad7184eb",
   "metadata": {},
   "source": [
    "### 11. Implement a program that swaps the values of two variables without using 3rd variable.\n"
   ]
  },
  {
   "cell_type": "code",
   "execution_count": 3,
   "id": "11f0d254",
   "metadata": {},
   "outputs": [
    {
     "data": {
      "text/plain": [
       "'4  5'"
      ]
     },
     "execution_count": 3,
     "metadata": {},
     "output_type": "execute_result"
    }
   ],
   "source": [
    "vv=5\n",
    "yy=4\n",
    "vv,yy=yy,vv\n",
    "str(vv)+\"  \"+str(yy)"
   ]
  },
  {
   "cell_type": "markdown",
   "id": "8ead1c78",
   "metadata": {},
   "source": [
    "### 12. Write a Program to check the data type of below variables:\n"
   ]
  },
  {
   "cell_type": "code",
   "execution_count": 23,
   "id": "4d173d16",
   "metadata": {},
   "outputs": [],
   "source": [
    "a = 1.90\n",
    "b = 5/45\n",
    "c = \"DSA\"\n",
    "d = 'Amir'\n",
    "e = 'True'\n",
    "f = True\n",
    "g = 7 + 2j\n",
    "h = 3712332\n",
    "i = '2023-08-04'"
   ]
  },
  {
   "cell_type": "code",
   "execution_count": 25,
   "id": "fe69e525",
   "metadata": {},
   "outputs": [
    {
     "data": {
      "text/plain": [
       "float"
      ]
     },
     "execution_count": 25,
     "metadata": {},
     "output_type": "execute_result"
    }
   ],
   "source": [
    "type(a)"
   ]
  },
  {
   "cell_type": "code",
   "execution_count": 26,
   "id": "fc3eb036",
   "metadata": {},
   "outputs": [
    {
     "data": {
      "text/plain": [
       "float"
      ]
     },
     "execution_count": 26,
     "metadata": {},
     "output_type": "execute_result"
    }
   ],
   "source": [
    "type(b)"
   ]
  },
  {
   "cell_type": "code",
   "execution_count": 27,
   "id": "d1967c2d",
   "metadata": {},
   "outputs": [
    {
     "data": {
      "text/plain": [
       "str"
      ]
     },
     "execution_count": 27,
     "metadata": {},
     "output_type": "execute_result"
    }
   ],
   "source": [
    "type(c)"
   ]
  },
  {
   "cell_type": "code",
   "execution_count": 28,
   "id": "f59f4577",
   "metadata": {},
   "outputs": [
    {
     "data": {
      "text/plain": [
       "str"
      ]
     },
     "execution_count": 28,
     "metadata": {},
     "output_type": "execute_result"
    }
   ],
   "source": [
    "type(d)"
   ]
  },
  {
   "cell_type": "code",
   "execution_count": 29,
   "id": "5a1d1098",
   "metadata": {},
   "outputs": [
    {
     "data": {
      "text/plain": [
       "str"
      ]
     },
     "execution_count": 29,
     "metadata": {},
     "output_type": "execute_result"
    }
   ],
   "source": [
    "type(e)"
   ]
  },
  {
   "cell_type": "code",
   "execution_count": 30,
   "id": "c1d51b97",
   "metadata": {},
   "outputs": [
    {
     "data": {
      "text/plain": [
       "bool"
      ]
     },
     "execution_count": 30,
     "metadata": {},
     "output_type": "execute_result"
    }
   ],
   "source": [
    "type(f)"
   ]
  },
  {
   "cell_type": "code",
   "execution_count": 31,
   "id": "77fb1dd3",
   "metadata": {},
   "outputs": [
    {
     "data": {
      "text/plain": [
       "complex"
      ]
     },
     "execution_count": 31,
     "metadata": {},
     "output_type": "execute_result"
    }
   ],
   "source": [
    "type(g)"
   ]
  },
  {
   "cell_type": "code",
   "execution_count": 32,
   "id": "4fa81236",
   "metadata": {},
   "outputs": [
    {
     "data": {
      "text/plain": [
       "int"
      ]
     },
     "execution_count": 32,
     "metadata": {},
     "output_type": "execute_result"
    }
   ],
   "source": [
    "type(h)"
   ]
  },
  {
   "cell_type": "code",
   "execution_count": 33,
   "id": "0ba8866f",
   "metadata": {},
   "outputs": [
    {
     "data": {
      "text/plain": [
       "str"
      ]
     },
     "execution_count": 33,
     "metadata": {},
     "output_type": "execute_result"
    }
   ],
   "source": [
    "type(i)"
   ]
  }
 ],
 "metadata": {
  "kernelspec": {
   "display_name": "Python 3 (ipykernel)",
   "language": "python",
   "name": "python3"
  },
  "language_info": {
   "codemirror_mode": {
    "name": "ipython",
    "version": 3
   },
   "file_extension": ".py",
   "mimetype": "text/x-python",
   "name": "python",
   "nbconvert_exporter": "python",
   "pygments_lexer": "ipython3",
   "version": "3.11.5"
  }
 },
 "nbformat": 4,
 "nbformat_minor": 5
}
