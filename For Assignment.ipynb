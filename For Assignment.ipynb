{
 "cells": [
  {
   "cell_type": "markdown",
   "id": "7ce562b5",
   "metadata": {},
   "source": [
    "### 1. Print first 10 numbers using a for loop"
   ]
  },
  {
   "cell_type": "code",
   "execution_count": 4,
   "id": "f92452f5",
   "metadata": {},
   "outputs": [
    {
     "name": "stdout",
     "output_type": "stream",
     "text": [
      "1\n",
      "2\n",
      "3\n",
      "4\n",
      "5\n",
      "6\n",
      "7\n",
      "8\n",
      "9\n",
      "10\n"
     ]
    }
   ],
   "source": [
    "a=0\n",
    "for i in range(10):\n",
    "    a=a+1\n",
    "    print(a)"
   ]
  },
  {
   "cell_type": "markdown",
   "id": "ed101548",
   "metadata": {},
   "source": [
    "### 2.Calculate the square of each number of list of 1-100 numbers"
   ]
  },
  {
   "cell_type": "code",
   "execution_count": 7,
   "id": "424757a3",
   "metadata": {},
   "outputs": [
    {
     "name": "stdout",
     "output_type": "stream",
     "text": [
      "1\n",
      "4\n",
      "9\n",
      "16\n",
      "25\n",
      "36\n",
      "49\n",
      "64\n",
      "81\n",
      "100\n",
      "121\n",
      "144\n",
      "169\n",
      "196\n",
      "225\n",
      "256\n",
      "289\n",
      "324\n",
      "361\n",
      "400\n",
      "441\n",
      "484\n",
      "529\n",
      "576\n",
      "625\n",
      "676\n",
      "729\n",
      "784\n",
      "841\n",
      "900\n",
      "961\n",
      "1024\n",
      "1089\n",
      "1156\n",
      "1225\n",
      "1296\n",
      "1369\n",
      "1444\n",
      "1521\n",
      "1600\n",
      "1681\n",
      "1764\n",
      "1849\n",
      "1936\n",
      "2025\n",
      "2116\n",
      "2209\n",
      "2304\n",
      "2401\n",
      "2500\n",
      "2601\n",
      "2704\n",
      "2809\n",
      "2916\n",
      "3025\n",
      "3136\n",
      "3249\n",
      "3364\n",
      "3481\n",
      "3600\n",
      "3721\n",
      "3844\n",
      "3969\n",
      "4096\n",
      "4225\n",
      "4356\n",
      "4489\n",
      "4624\n",
      "4761\n",
      "4900\n",
      "5041\n",
      "5184\n",
      "5329\n",
      "5476\n",
      "5625\n",
      "5776\n",
      "5929\n",
      "6084\n",
      "6241\n",
      "6400\n",
      "6561\n",
      "6724\n",
      "6889\n",
      "7056\n",
      "7225\n",
      "7396\n",
      "7569\n",
      "7744\n",
      "7921\n",
      "8100\n",
      "8281\n",
      "8464\n",
      "8649\n",
      "8836\n",
      "9025\n",
      "9216\n",
      "9409\n",
      "9604\n",
      "9801\n",
      "10000\n"
     ]
    }
   ],
   "source": [
    "a=0\n",
    "for i in range(100):\n",
    "    a=(a+1)\n",
    "    sq=a**2\n",
    "    print(sq)"
   ]
  },
  {
   "cell_type": "markdown",
   "id": "90fa2caa",
   "metadata": {},
   "source": [
    "### 3. Calculate the sum of all even numbers from 1-100"
   ]
  },
  {
   "cell_type": "code",
   "execution_count": 13,
   "id": "7f540a70",
   "metadata": {},
   "outputs": [
    {
     "data": {
      "text/plain": [
       "2550"
      ]
     },
     "execution_count": 13,
     "metadata": {},
     "output_type": "execute_result"
    }
   ],
   "source": [
    "a=range(1,101)\n",
    "b=0\n",
    "for i in a:\n",
    "    if i%2==0:\n",
    "        b=b+i\n",
    "b\n",
    "    \n",
    "    "
   ]
  },
  {
   "cell_type": "markdown",
   "id": "7389ec7b",
   "metadata": {},
   "source": [
    "### 4. Write a Program to print the table of the number entered by user."
   ]
  },
  {
   "cell_type": "code",
   "execution_count": 14,
   "id": "ac636752",
   "metadata": {},
   "outputs": [
    {
     "name": "stdout",
     "output_type": "stream",
     "text": [
      "Enter the number of which you want table: 9\n",
      "9 * 1 = 9\n",
      "9 * 2 = 18\n",
      "9 * 3 = 27\n",
      "9 * 4 = 36\n",
      "9 * 5 = 45\n",
      "9 * 6 = 54\n",
      "9 * 7 = 63\n",
      "9 * 8 = 72\n",
      "9 * 9 = 81\n",
      "9 * 10 = 90\n"
     ]
    }
   ],
   "source": [
    "tab= int(input(\"Enter the number of which you want table: \"))\n",
    "a=0\n",
    "for i in range(1,11):\n",
    "    a= tab* i\n",
    "    print(f\"{tab} * {i} = {a}\")"
   ]
  },
  {
   "cell_type": "markdown",
   "id": "152e2242",
   "metadata": {},
   "source": [
    "### 5. Write a Program to find the factorial of the number enetered by user."
   ]
  },
  {
   "cell_type": "code",
   "execution_count": 16,
   "id": "88f2a0a0",
   "metadata": {},
   "outputs": [
    {
     "name": "stdout",
     "output_type": "stream",
     "text": [
      "Number to do factorial:5\n",
      "Factorial of 5 is 120\n"
     ]
    }
   ],
   "source": [
    "a=int(input(\"Number to do factorial:\" ))\n",
    "series=range(1,a+1)\n",
    "Fact=1\n",
    "for i in series:\n",
    "    Fact= Fact* i\n",
    "print(f\"Factorial of {a} is {Fact}\")"
   ]
  },
  {
   "cell_type": "markdown",
   "id": "caad2c08",
   "metadata": {},
   "source": [
    "### 6. Write a Program to check if the number is prime or not (Hint: Prime number is divisble by 1 and the number itself!)"
   ]
  },
  {
   "cell_type": "code",
   "execution_count": 17,
   "id": "2b824e13",
   "metadata": {},
   "outputs": [
    {
     "name": "stdout",
     "output_type": "stream",
     "text": [
      "Enter Number: 11\n",
      "11 is a Prime Number\n"
     ]
    }
   ],
   "source": [
    "a=int(input(\"Enter Number: \"))\n",
    "rg= range(2,a)\n",
    "r=0\n",
    "for i in rg:\n",
    "    if a%i== 0:\n",
    "        r=i\n",
    "if r==0:\n",
    "    print(f\"{a} is a Prime Number\")\n",
    "else: \n",
    "    print(f\"{a} is not a Prime Number\")"
   ]
  },
  {
   "cell_type": "markdown",
   "id": "30c6ba2b",
   "metadata": {},
   "source": [
    "### 7. Write a Program to print sum of all odd number between 12 and 37 (12 and 37 included)"
   ]
  },
  {
   "cell_type": "code",
   "execution_count": 19,
   "id": "9b26ac22",
   "metadata": {},
   "outputs": [
    {
     "name": "stdout",
     "output_type": "stream",
     "text": [
      "325\n"
     ]
    }
   ],
   "source": [
    "a=range(12,38)\n",
    "sum=0\n",
    "for i in a:\n",
    "    if i%2 != 0:\n",
    "        sum=sum+i\n",
    "print(sum)"
   ]
  },
  {
   "cell_type": "markdown",
   "id": "be776dfe",
   "metadata": {},
   "source": [
    "### 8. Write a Program to find whether the number entered by user is perfect number or not (Hint: Perfect number is the number where the divisors sum is the number itself!)\n",
    "#### For example, 6 is perfect number because the divisors of 6 are : 1,2,3 and 1+2+3 is 6"
   ]
  },
  {
   "cell_type": "code",
   "execution_count": 20,
   "id": "a2853931",
   "metadata": {},
   "outputs": [
    {
     "name": "stdout",
     "output_type": "stream",
     "text": [
      "Input your number:496\n",
      "Perfect number\n"
     ]
    }
   ],
   "source": [
    "w=int(input(\"Input your number:\"))\n",
    "a=range(1,w,1)\n",
    "div=[]\n",
    "for b in a:\n",
    "    if w%b==0:\n",
    "        div.append(b)\n",
    "r=0\n",
    "for p in div:\n",
    "    r=r+p\n",
    "if r==w:\n",
    "    print(\"Perfect number\")\n",
    "else:\n",
    "    print(\"Not Perfect number\")"
   ]
  },
  {
   "cell_type": "markdown",
   "id": "9e77271a",
   "metadata": {},
   "source": [
    "### 9. Write a Program to find the sum of following (accepted values a,r and n from user)\n",
    "### a + ar + ar2 + ar3 + .... + arn"
   ]
  },
  {
   "cell_type": "code",
   "execution_count": 21,
   "id": "f733bf22",
   "metadata": {},
   "outputs": [
    {
     "name": "stdout",
     "output_type": "stream",
     "text": [
      "Enter you a: 5\n",
      "Enter you r: 2\n",
      "Enter you n: 4\n"
     ]
    },
    {
     "data": {
      "text/plain": [
       "400"
      ]
     },
     "execution_count": 21,
     "metadata": {},
     "output_type": "execute_result"
    }
   ],
   "source": [
    "a=int(input(\"Enter you a: \"))\n",
    "r=int(input(\"Enter you r: \"))\n",
    "n=int(input(\"Enter you n: \"))\n",
    "nrg=range(n+1)\n",
    "arn=0\n",
    "sum= 0\n",
    "for i in nrg:\n",
    "    arn= a*(r**n)\n",
    "    sum= sum+arn\n",
    "sum"
   ]
  },
  {
   "cell_type": "markdown",
   "id": "5652ae26",
   "metadata": {},
   "source": [
    "### 10. Write a Program in python to append suffix in each word of the string.\n",
    "#### I/P: \"Play Work Sleep Eat\"\n",
    "#### O/P: \"Playing Working Sleeping Eating\""
   ]
  },
  {
   "cell_type": "code",
   "execution_count": 28,
   "id": "6ce01e07",
   "metadata": {},
   "outputs": [
    {
     "data": {
      "text/plain": [
       "'Playing Working Sleeping Eating'"
      ]
     },
     "execution_count": 28,
     "metadata": {},
     "output_type": "execute_result"
    }
   ],
   "source": [
    "a=\"Play Work Sleep Eat\"\n",
    "aa= a.split(\" \")\n",
    "ing=[]\n",
    "for i in aa:\n",
    "    ing.append(i+\"ing\")\n",
    "ing\n",
    "stat= ing[0]+\" \"+ing[1]+\" \"+ing[2]+\" \"+ing[3]\n",
    "stat"
   ]
  },
  {
   "cell_type": "markdown",
   "id": "c30e4deb",
   "metadata": {},
   "source": [
    "### 11. Display Fibonacci series up to 10 terms\n",
    "#### Example: 1,2,3,5,8,13,21,34"
   ]
  },
  {
   "cell_type": "code",
   "execution_count": 29,
   "id": "32fc6693",
   "metadata": {},
   "outputs": [
    {
     "data": {
      "text/plain": [
       "[0, 1, 1, 2, 3, 5, 8, 13, 21, 34]"
      ]
     },
     "execution_count": 29,
     "metadata": {},
     "output_type": "execute_result"
    }
   ],
   "source": [
    "fib=[0,1]\n",
    "for i in range(8):\n",
    "    fib.append(fib[-1]+fib[-2])\n",
    "fib"
   ]
  },
  {
   "cell_type": "markdown",
   "id": "02462bfa",
   "metadata": {},
   "source": [
    "### 12. Calculate the cube of all numbers from 1 to a given number"
   ]
  },
  {
   "cell_type": "code",
   "execution_count": 30,
   "id": "835f2596",
   "metadata": {},
   "outputs": [
    {
     "name": "stdout",
     "output_type": "stream",
     "text": [
      "Enter number: 10\n"
     ]
    },
    {
     "data": {
      "text/plain": [
       "[1, 8, 27, 64, 125, 216, 343, 512, 729, 1000]"
      ]
     },
     "execution_count": 30,
     "metadata": {},
     "output_type": "execute_result"
    }
   ],
   "source": [
    "c=int(input(\"Enter number: \"))\n",
    "crg=range(1,c+1)\n",
    "cube=[]\n",
    "for i in crg:\n",
    "    cube.append(i**3)\n",
    "cube"
   ]
  },
  {
   "cell_type": "markdown",
   "id": "2acdc5fa",
   "metadata": {},
   "source": [
    "### 13. Display numbers from -10 to -1 using for loop"
   ]
  },
  {
   "cell_type": "code",
   "execution_count": 31,
   "id": "4aa70810",
   "metadata": {},
   "outputs": [
    {
     "data": {
      "text/plain": [
       "[-10, -9, -8, -7, -6, -5, -4, -3, -2, -1]"
      ]
     },
     "execution_count": 31,
     "metadata": {},
     "output_type": "execute_result"
    }
   ],
   "source": [
    "a=[]\n",
    "for i in range(1,11):\n",
    "    a.append(i*-1)\n",
    "a=sorted(a)\n",
    "a"
   ]
  },
  {
   "cell_type": "markdown",
   "id": "7e29839b",
   "metadata": {},
   "source": [
    "### 14. Count the total number of digits in a number"
   ]
  },
  {
   "cell_type": "code",
   "execution_count": 32,
   "id": "6c93d803",
   "metadata": {},
   "outputs": [
    {
     "data": {
      "text/plain": [
       "10"
      ]
     },
     "execution_count": 32,
     "metadata": {},
     "output_type": "execute_result"
    }
   ],
   "source": [
    "num = 9157533170\n",
    "count=0\n",
    "for i in str(num):\n",
    "    count=count+1\n",
    "count"
   ]
  },
  {
   "cell_type": "markdown",
   "id": "3083583c",
   "metadata": {},
   "source": [
    "### 15. Print \"Done\" after successful execution of for loop"
   ]
  },
  {
   "cell_type": "code",
   "execution_count": 40,
   "id": "6ad255bc",
   "metadata": {},
   "outputs": [
    {
     "name": "stdout",
     "output_type": "stream",
     "text": [
      "Enter a number: 10\n",
      "0\n",
      "1\n",
      "2\n",
      "3\n",
      "4\n",
      "5\n",
      "6\n",
      "7\n",
      "8\n",
      "9\n",
      "10\n",
      "Done!\n"
     ]
    }
   ],
   "source": [
    "a=int(input(\"Enter a number: \"))\n",
    "for i in range(a+1):\n",
    "    print(i)\n",
    "    if i == a:\n",
    "        print(\"Done!\")\n",
    "      \n",
    "    "
   ]
  },
  {
   "cell_type": "markdown",
   "id": "095f413a",
   "metadata": {},
   "source": [
    "### 16. Calculate the cube of all numbers from 1 to a given number"
   ]
  },
  {
   "cell_type": "code",
   "execution_count": 41,
   "id": "2b53d014",
   "metadata": {},
   "outputs": [
    {
     "name": "stdout",
     "output_type": "stream",
     "text": [
      "Enter number: 11\n"
     ]
    },
    {
     "data": {
      "text/plain": [
       "[1, 8, 27, 64, 125, 216, 343, 512, 729, 1000, 1331]"
      ]
     },
     "execution_count": 41,
     "metadata": {},
     "output_type": "execute_result"
    }
   ],
   "source": [
    "c=int(input(\"Enter number: \"))\n",
    "crg=range(1,c+1)\n",
    "cube=[]\n",
    "for i in crg:\n",
    "    cube.append(i**3)\n",
    "cube"
   ]
  },
  {
   "cell_type": "markdown",
   "id": "2f622dc3",
   "metadata": {},
   "source": [
    "### 17. Write a Program to check if a given string is a pangram. (contains all letters of the alphabet)"
   ]
  },
  {
   "cell_type": "code",
   "execution_count": 1,
   "id": "adbfd921",
   "metadata": {},
   "outputs": [
    {
     "name": "stdout",
     "output_type": "stream",
     "text": [
      "Enter a string: yiydas asdhuhdsa asdhhda hdos siai a qoqpnc nmz,nodqnqw ehqpcnasnxzmqopqjc coaoqldjfbvt\n",
      "String isn't Pangram\n"
     ]
    }
   ],
   "source": [
    "a=input(\"Enter a string: \")\n",
    "a=a.lower()\n",
    "abc=\"qwertyuiopasdfghjklzxcvbnm\"\n",
    "c=[]\n",
    "for i in abc:\n",
    "    if i in a:\n",
    "        c.append(\"y\")\n",
    "    else:\n",
    "        c.append(\"n\")\n",
    "if \"n\" in c:\n",
    "    print(\"String isn't Pangram\")\n",
    "else:\n",
    "    print(\"String is Pangram\")"
   ]
  },
  {
   "cell_type": "markdown",
   "id": "e9f8485c",
   "metadata": {},
   "source": [
    "### 18. Given a list of names, print all names starting with the letter 'A'"
   ]
  },
  {
   "cell_type": "code",
   "execution_count": 46,
   "id": "f1fd25fc",
   "metadata": {},
   "outputs": [
    {
     "data": {
      "text/plain": [
       "['Amisha', 'Ayush', 'Arpit']"
      ]
     },
     "execution_count": 46,
     "metadata": {},
     "output_type": "execute_result"
    }
   ],
   "source": [
    "nlist=[\"Darshan\",\"Harsh\",\"Chirag\",\"Jayesh\",\"Amisha\",\"Prem\",\"Ayush\",\"Preet\",\"Arpit\"]\n",
    "aname=[]\n",
    "for i in nlist:\n",
    "    if \"A\" in i[0:1:1]:\n",
    "        aname.append(i)\n",
    "aname"
   ]
  },
  {
   "cell_type": "markdown",
   "id": "54b21609",
   "metadata": {},
   "source": [
    "### 19. Create a loop that prints all prime numbers between 1 and 50."
   ]
  },
  {
   "cell_type": "code",
   "execution_count": 52,
   "id": "732412b9",
   "metadata": {},
   "outputs": [
    {
     "data": {
      "text/plain": [
       "[2, 3, 5, 7, 11, 13, 17, 19, 23, 29, 31, 37, 41, 43, 47]"
      ]
     },
     "execution_count": 52,
     "metadata": {},
     "output_type": "execute_result"
    }
   ],
   "source": [
    "prime=[]\n",
    "p=[]\n",
    "for i in range(1,51):\n",
    "    for e in range(1,i):\n",
    "        if i%e == 0:\n",
    "            p.append(e)\n",
    "    if len(p)==1:\n",
    "        prime.append(i)\n",
    "    p=[]\n",
    "prime\n",
    "    "
   ]
  },
  {
   "cell_type": "markdown",
   "id": "e913b9e3",
   "metadata": {},
   "source": [
    "### 20. Given a list of words, count the number of words with more than 5 characters."
   ]
  },
  {
   "cell_type": "code",
   "execution_count": 54,
   "id": "164970ff",
   "metadata": {},
   "outputs": [
    {
     "data": {
      "text/plain": [
       "['Darshan', 'Chirag', 'Jayesh', 'Amisha']"
      ]
     },
     "execution_count": 54,
     "metadata": {},
     "output_type": "execute_result"
    }
   ],
   "source": [
    "nlist=[\"Darshan\",\"Harsh\",\"Chirag\",\"Jayesh\",\"Amisha\",\"Prem\",\"Ayush\",\"Preet\",\"Arpit\"]\n",
    "n5=[]\n",
    "c=0\n",
    "for i in nlist:\n",
    "    for e in i:\n",
    "        c=c+1\n",
    "    if c>5:\n",
    "        n5.append(i)\n",
    "    c=0\n",
    "n5\n"
   ]
  },
  {
   "cell_type": "markdown",
   "id": "292af3b9",
   "metadata": {},
   "source": [
    "### 21. Calculate the sum of all digits given in a string format\n",
    "### I/P : s= \"12345\""
   ]
  },
  {
   "cell_type": "code",
   "execution_count": 56,
   "id": "de4ee84a",
   "metadata": {},
   "outputs": [
    {
     "data": {
      "text/plain": [
       "15"
      ]
     },
     "execution_count": 56,
     "metadata": {},
     "output_type": "execute_result"
    }
   ],
   "source": [
    "s=\"12345\"\n",
    "sum=0\n",
    "for i in s:\n",
    "    sum=sum+int(i)\n",
    "sum"
   ]
  },
  {
   "cell_type": "code",
   "execution_count": null,
   "id": "d2632c6b",
   "metadata": {},
   "outputs": [],
   "source": []
  }
 ],
 "metadata": {
  "kernelspec": {
   "display_name": "Python 3 (ipykernel)",
   "language": "python",
   "name": "python3"
  },
  "language_info": {
   "codemirror_mode": {
    "name": "ipython",
    "version": 3
   },
   "file_extension": ".py",
   "mimetype": "text/x-python",
   "name": "python",
   "nbconvert_exporter": "python",
   "pygments_lexer": "ipython3",
   "version": "3.11.5"
  }
 },
 "nbformat": 4,
 "nbformat_minor": 5
}
