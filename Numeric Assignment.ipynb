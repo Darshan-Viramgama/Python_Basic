{
 "cells": [
  {
   "cell_type": "markdown",
   "id": "582ae948",
   "metadata": {},
   "source": [
    "### 1. Write a Python function to find the maximum of three numbers from the given list"
   ]
  },
  {
   "cell_type": "code",
   "execution_count": 2,
   "id": "f48e33a5",
   "metadata": {},
   "outputs": [
    {
     "data": {
      "text/plain": [
       "[455, 343, 64]"
      ]
     },
     "execution_count": 2,
     "metadata": {},
     "output_type": "execute_result"
    }
   ],
   "source": [
    "nlist=([23,3,33,43,5,4,3,3,55,6,-5,5,4,64,34,6,7,55,43,343,32,4,33,2,43,35,32,455,4,23,])\n",
    "maxnlist= sorted(nlist,reverse=True)\n",
    "maxnlist[:3]"
   ]
  },
  {
   "cell_type": "markdown",
   "id": "535a36f7",
   "metadata": {},
   "source": [
    "### 2. Write a Python function to sum all the numbers in a list.\n"
   ]
  },
  {
   "cell_type": "code",
   "execution_count": 9,
   "id": "5e8d332c",
   "metadata": {},
   "outputs": [
    {
     "data": {
      "text/plain": [
       "1397"
      ]
     },
     "execution_count": 9,
     "metadata": {},
     "output_type": "execute_result"
    }
   ],
   "source": [
    "sum(nlist)"
   ]
  },
  {
   "cell_type": "markdown",
   "id": "2a9b40e5",
   "metadata": {},
   "source": [
    "### 3. Write a Python function to multiply all the numbers in a list.\n"
   ]
  },
  {
   "cell_type": "code",
   "execution_count": 3,
   "id": "d8819f87",
   "metadata": {},
   "outputs": [
    {
     "data": {
      "text/plain": [
       "-734329516600443531048863662080000000"
      ]
     },
     "execution_count": 3,
     "metadata": {},
     "output_type": "execute_result"
    }
   ],
   "source": [
    "product=1\n",
    "for i in nlist:\n",
    "    product= product*i\n",
    "product"
   ]
  },
  {
   "cell_type": "markdown",
   "id": "9f164282",
   "metadata": {},
   "source": [
    "### 4. Comment whether the given variables are valid or invalid:\n",
    "#### age  #valid\n",
    "#### _age = valid\n",
    "#### Age = valid\n",
    "#### Invalid   = valid\n",
    "#### 1age = invalid (number should not come first)\n",
    "#### Valid    = valid\n",
    "#### _age = valid\n",
    "#### age_ =   valid\n",
    "#### age_* = invalid(unique characters not allowed)\n",
    "#### +age  = invalid(operators not allowed)\n",
    "#### age = valid\n",
    "#### Age1 = valid\n",
    "#### AGE1 = valid\n",
    "#### Age2   = valid\n",
    "#### pass  = invalid(reserved keyword)\n",
    "#### break  = invalid(reserved keyword)\n",
    "#### continue = invalid(reserved keyword) \n",
    "#### list  = invalid(reserved keyword)\n",
    "#### list.  =invalid(reserved keyword)\n",
    "#### etc   = valid\n",
    "#### print  =invalid(reserved keyword)\n",
    "#### _print = valid"
   ]
  },
  {
   "cell_type": "code",
   "execution_count": 11,
   "id": "85d8b6df",
   "metadata": {},
   "outputs": [],
   "source": [
    "age  \n",
    "_age \n",
    "Age\n",
    "Invalid   \n",
    "1age \n",
    "Valid    \n",
    "_age \n",
    "age_ \n",
    "age_* \n",
    "+age  \n",
    "age \n",
    "Age1\n",
    "AGE1\n",
    "Age2   \n",
    "pass  \n",
    "break\n",
    "continue  \n",
    "list   \n",
    "list.  \n",
    "etc   \n",
    "print\n",
    "_print"
   ]
  },
  {
   "cell_type": "markdown",
   "id": "8c7a8920",
   "metadata": {},
   "source": [
    "### 5. Evaluate following expressions:\n"
   ]
  },
  {
   "cell_type": "code",
   "execution_count": 14,
   "id": "2a454c4d",
   "metadata": {},
   "outputs": [
    {
     "data": {
      "text/plain": [
       "1.0"
      ]
     },
     "execution_count": 14,
     "metadata": {},
     "output_type": "execute_result"
    }
   ],
   "source": [
    "7 - 24 / 8 * 4 + 6"
   ]
  },
  {
   "cell_type": "code",
   "execution_count": 15,
   "id": "3e64510d",
   "metadata": {},
   "outputs": [
    {
     "data": {
      "text/plain": [
       "9.0"
      ]
     },
     "execution_count": 15,
     "metadata": {},
     "output_type": "execute_result"
    }
   ],
   "source": [
    "18 / 3 - 7 + 2 * 5"
   ]
  },
  {
   "cell_type": "code",
   "execution_count": 16,
   "id": "99b36003",
   "metadata": {},
   "outputs": [
    {
     "data": {
      "text/plain": [
       "2.0"
      ]
     },
     "execution_count": 16,
     "metadata": {},
     "output_type": "execute_result"
    }
   ],
   "source": [
    "6 * 4 / 12 + 72 / 8 - 9"
   ]
  },
  {
   "cell_type": "code",
   "execution_count": 17,
   "id": "cf401d7b",
   "metadata": {},
   "outputs": [
    {
     "data": {
      "text/plain": [
       "26.0"
      ]
     },
     "execution_count": 17,
     "metadata": {},
     "output_type": "execute_result"
    }
   ],
   "source": [
    "(17 - 6 / 2) + 4 * 3"
   ]
  },
  {
   "cell_type": "code",
   "execution_count": 21,
   "id": "51e4d189",
   "metadata": {},
   "outputs": [
    {
     "data": {
      "text/plain": [
       "-1.0"
      ]
     },
     "execution_count": 21,
     "metadata": {},
     "output_type": "execute_result"
    }
   ],
   "source": [
    "-2*(1 * 4 - 2 / 2) + (6 + 2 - 3)"
   ]
  },
  {
   "cell_type": "code",
   "execution_count": 22,
   "id": "0d502480",
   "metadata": {},
   "outputs": [
    {
     "ename": "TypeError",
     "evalue": "unsupported operand type(s) for -: 'list' and 'float'",
     "output_type": "error",
     "traceback": [
      "\u001b[1;31m---------------------------------------------------------------------------\u001b[0m",
      "\u001b[1;31mTypeError\u001b[0m                                 Traceback (most recent call last)",
      "Cell \u001b[1;32mIn[22], line 1\u001b[0m\n\u001b[1;32m----> 1\u001b[0m \u001b[38;5;241m-\u001b[39m\u001b[38;5;241m1\u001b[39m \u001b[38;5;241m*\u001b[39m [(\u001b[38;5;241m3\u001b[39m \u001b[38;5;241m-\u001b[39m \u001b[38;5;241m4\u001b[39m \u001b[38;5;241m*\u001b[39m \u001b[38;5;241m7\u001b[39m) \u001b[38;5;241m/\u001b[39m \u001b[38;5;241m5\u001b[39m] \u001b[38;5;241m-\u001b[39m \u001b[38;5;241m2\u001b[39m \u001b[38;5;241m*\u001b[39m \u001b[38;5;241m24\u001b[39m \u001b[38;5;241m/\u001b[39m \u001b[38;5;241m6\u001b[39m\n",
      "\u001b[1;31mTypeError\u001b[0m: unsupported operand type(s) for -: 'list' and 'float'"
     ]
    }
   ],
   "source": [
    "-1 * [(3 - 4 * 7) / 5] - 2 * 24 / 6\n"
   ]
  },
  {
   "cell_type": "code",
   "execution_count": 23,
   "id": "04bc2b6b",
   "metadata": {},
   "outputs": [
    {
     "data": {
      "text/plain": [
       "4.0"
      ]
     },
     "execution_count": 23,
     "metadata": {},
     "output_type": "execute_result"
    }
   ],
   "source": [
    "(3 * 5 **2 / 15) - (5 - 2 ** 2 )\n"
   ]
  },
  {
   "cell_type": "code",
   "execution_count": 24,
   "id": "5ab4a902",
   "metadata": {},
   "outputs": [
    {
     "data": {
      "text/plain": [
       "81.25"
      ]
     },
     "execution_count": 24,
     "metadata": {},
     "output_type": "execute_result"
    }
   ],
   "source": [
    "(22 / 2 - 2.5)** 2 + ( 4 - 6 / 6) ** 2"
   ]
  },
  {
   "cell_type": "code",
   "execution_count": null,
   "id": "f7629074",
   "metadata": {},
   "outputs": [],
   "source": []
  }
 ],
 "metadata": {
  "kernelspec": {
   "display_name": "Python 3 (ipykernel)",
   "language": "python",
   "name": "python3"
  },
  "language_info": {
   "codemirror_mode": {
    "name": "ipython",
    "version": 3
   },
   "file_extension": ".py",
   "mimetype": "text/x-python",
   "name": "python",
   "nbconvert_exporter": "python",
   "pygments_lexer": "ipython3",
   "version": "3.11.5"
  }
 },
 "nbformat": 4,
 "nbformat_minor": 5
}
