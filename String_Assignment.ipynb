{
 "cells": [
  {
   "cell_type": "markdown",
   "id": "929adb40",
   "metadata": {},
   "source": [
    "## String Assigment"
   ]
  },
  {
   "cell_type": "markdown",
   "id": "2beacfab",
   "metadata": {},
   "source": [
    "### 1.Write a Python program to get a string from a given string where all occurrences of its first char have been changed to"
   ]
  },
  {
   "cell_type": "code",
   "execution_count": 1,
   "id": "364e9fdd",
   "metadata": {},
   "outputs": [
    {
     "data": {
      "text/plain": [
       "'resta$t'"
      ]
     },
     "execution_count": 1,
     "metadata": {},
     "output_type": "execute_result"
    }
   ],
   "source": [
    "# '$', except the first char itself.\n",
    "# Sample String : 'restart'\n",
    "# Expected Result : 'resta$t'\n",
    "r=\"restart\"\n",
    "rr=r.replace(\"r\",\"$\",2)\n",
    "rr\n",
    "rrr=rr.replace(\"$\",\"r\",1)\n",
    "rrr"
   ]
  },
  {
   "cell_type": "markdown",
   "id": "277a0d32",
   "metadata": {},
   "source": [
    "### 2. Write a Python program to calculate the length of a string and print a message.\n",
    "#### Sample String : 'Hello WOrld!'\n",
    "#### Expected Result : Given string 'Hello World' is made of 12 characters\n"
   ]
  },
  {
   "cell_type": "code",
   "execution_count": 27,
   "id": "678c274e",
   "metadata": {},
   "outputs": [
    {
     "data": {
      "text/plain": [
       "\"Given string 'Hello World!' is made of 12 characters\""
      ]
     },
     "execution_count": 27,
     "metadata": {},
     "output_type": "execute_result"
    }
   ],
   "source": [
    "a=\"Hello World!\"\n",
    "leng= len(a)\n",
    "aa=f\"Given string '{a}' is made of {leng} characters\"\n",
    "aa"
   ]
  },
  {
   "cell_type": "markdown",
   "id": "05eb26de",
   "metadata": {},
   "source": [
    "### 3. Write a Python program to get a single string from two given strings, separated by a space and swap the first two characters of each string.\n",
    "#### Sample String : 'abc', 'xyz'\n",
    "#### Expected Result : 'xyc abz'\n"
   ]
  },
  {
   "cell_type": "code",
   "execution_count": 40,
   "id": "3552653a",
   "metadata": {},
   "outputs": [
    {
     "data": {
      "text/plain": [
       "'xyc abz'"
      ]
     },
     "execution_count": 40,
     "metadata": {},
     "output_type": "execute_result"
    }
   ],
   "source": [
    "b=\"abc\"\n",
    "y=\"xyz\"\n",
    "bb=y[:2:1]+b[2::1]\n",
    "yy=b[:2:1]+y[2::1]\n",
    "by=bb+' '+yy\n",
    "by"
   ]
  },
  {
   "cell_type": "markdown",
   "id": "895f51eb",
   "metadata": {},
   "source": [
    "### 4. Write a Python program to add 'ing' at the end of a given string\n",
    "#### Sample String : 'play'\n",
    "#### Expected Result : 'playing'\n"
   ]
  },
  {
   "cell_type": "code",
   "execution_count": 42,
   "id": "b12f0171",
   "metadata": {},
   "outputs": [
    {
     "data": {
      "text/plain": [
       "'Playing'"
      ]
     },
     "execution_count": 42,
     "metadata": {},
     "output_type": "execute_result"
    }
   ],
   "source": [
    "p=\"Play\"\n",
    "pg=p+\"ing\"\n",
    "pg"
   ]
  },
  {
   "cell_type": "markdown",
   "id": "72c6043c",
   "metadata": {},
   "source": [
    "### 5. Write a Python program to find the first appearance of the substrings 'not' and 'poor' in a given string below.\n",
    "#### String : 'The lyrics is not that poor! It is Pathetic not poor!'\n"
   ]
  },
  {
   "cell_type": "code",
   "execution_count": 48,
   "id": "efc249b9",
   "metadata": {},
   "outputs": [
    {
     "data": {
      "text/plain": [
       "'14 23'"
      ]
     },
     "execution_count": 48,
     "metadata": {},
     "output_type": "execute_result"
    }
   ],
   "source": [
    "s='The lyrics is not that poor! It is Pathetic not poor!'\n",
    "ss=s.find(\"not\",1,35)\n",
    "sss=s.find(\"poor\",1,35)\n",
    "ssss=str(ss)+\" \"+str(sss)\n",
    "ssss"
   ]
  },
  {
   "cell_type": "markdown",
   "id": "ab0738e9",
   "metadata": {},
   "source": [
    "### 6. Write a Python program to remove the nth index character from a nonempty string.\n"
   ]
  },
  {
   "cell_type": "code",
   "execution_count": 51,
   "id": "65b20f58",
   "metadata": {},
   "outputs": [
    {
     "data": {
      "text/plain": [
       "' Hell Dear'"
      ]
     },
     "execution_count": 51,
     "metadata": {},
     "output_type": "execute_result"
    }
   ],
   "source": [
    "q=\" Hello Dear\"\n",
    "qq=q.replace(\"o\",\"\")\n",
    "qq"
   ]
  },
  {
   "cell_type": "markdown",
   "id": "c73c7f67",
   "metadata": {},
   "source": [
    "### 7. Write a Python program to change a given string to a newly string where the first and last chars have been exchanged.\n",
    "#### Sample String : 'donkey'\n",
    "#### Expected Result : 'yonked'\n"
   ]
  },
  {
   "cell_type": "code",
   "execution_count": 60,
   "id": "69afa7ac",
   "metadata": {},
   "outputs": [
    {
     "data": {
      "text/plain": [
       "'yonked'"
      ]
     },
     "execution_count": 60,
     "metadata": {},
     "output_type": "execute_result"
    }
   ],
   "source": [
    "d=\"donkey\"\n",
    "dd=d[-1::]+d[1:5:1]+d[:1:1]\n",
    "dd"
   ]
  },
  {
   "cell_type": "markdown",
   "id": "6d4a863f",
   "metadata": {},
   "source": [
    "### 8. Write a Python function to get a string made of 4 copies of the last two characters of a specified string (length must be at least 2).\n",
    "#### Sample String : 'Python'\n",
    "#### Expected Result : 'onononon'\n"
   ]
  },
  {
   "cell_type": "code",
   "execution_count": 71,
   "id": "09a69a6d",
   "metadata": {},
   "outputs": [
    {
     "data": {
      "text/plain": [
       "'onononon'"
      ]
     },
     "execution_count": 71,
     "metadata": {},
     "output_type": "execute_result"
    }
   ],
   "source": [
    "p='python'\n",
    "pp= p[-2::]*4\n",
    "pp"
   ]
  },
  {
   "cell_type": "markdown",
   "id": "85ea4cc9",
   "metadata": {},
   "source": [
    "### 9. Write a Python program to get the last character of string\n"
   ]
  },
  {
   "cell_type": "code",
   "execution_count": 73,
   "id": "eb47ee6f",
   "metadata": {},
   "outputs": [
    {
     "data": {
      "text/plain": [
       "'n'"
      ]
     },
     "execution_count": 73,
     "metadata": {},
     "output_type": "execute_result"
    }
   ],
   "source": [
    "ppp=p[-1::]\n",
    "ppp"
   ]
  },
  {
   "cell_type": "markdown",
   "id": "5f67a0d8",
   "metadata": {},
   "source": [
    "### 10. Write a Python function to reverse a string\n",
    "#### Sample String : 'lame'\n",
    "#### Expected Result : 'emal'\n"
   ]
  },
  {
   "cell_type": "code",
   "execution_count": 77,
   "id": "d9eef7d2",
   "metadata": {},
   "outputs": [
    {
     "data": {
      "text/plain": [
       "'emal'"
      ]
     },
     "execution_count": 77,
     "metadata": {},
     "output_type": "execute_result"
    }
   ],
   "source": [
    "l='lame'\n",
    "ll=l[-1::-1]\n",
    "ll"
   ]
  },
  {
   "cell_type": "markdown",
   "id": "953b2dd0",
   "metadata": {},
   "source": [
    "### 11. Given two strings, s1 and s2. Write a program to create a new string s3 by appending s2 in the middle of s1.\n",
    "#### Given: s1 = 'Daran', s2 = 'sh'\n",
    "#### Expected Output: 'Tushar'\n"
   ]
  },
  {
   "cell_type": "code",
   "execution_count": 2,
   "id": "57f2e046",
   "metadata": {},
   "outputs": [
    {
     "data": {
      "text/plain": [
       "'Darshan'"
      ]
     },
     "execution_count": 2,
     "metadata": {},
     "output_type": "execute_result"
    }
   ],
   "source": [
    "my='Daran'\n",
    "mm='sh'\n",
    "myy=my[:3:]+mm+my[3::1]\n",
    "myy"
   ]
  },
  {
   "cell_type": "markdown",
   "id": "ca2793a2",
   "metadata": {},
   "source": [
    "### 12. Given two strings, s1 and s2, write a program to return a new string made of s1 and s2’s first, middle, and last characters.\n",
    "#### Given : s1 = 'America', s2 = 'Japan'\n",
    "#### Expected Output: 'AJrpan'\n"
   ]
  },
  {
   "cell_type": "code",
   "execution_count": 3,
   "id": "b9879dce",
   "metadata": {},
   "outputs": [
    {
     "data": {
      "text/plain": [
       "'AJrpan'"
      ]
     },
     "execution_count": 3,
     "metadata": {},
     "output_type": "execute_result"
    }
   ],
   "source": [
    "s1 = 'America' \n",
    "s2 = 'Japan'\n",
    "s12= s1[:1:1]+s2[:1:1]+s1[3:4:1]+s2[2:3:1]+s1[-1::1]+s2[-1::1]\n",
    "s12"
   ]
  },
  {
   "cell_type": "markdown",
   "id": "15e5f659",
   "metadata": {},
   "source": [
    "### 13. Write a program to count all occurrences of “USA” in a given string ignoring the case.\n",
    "#### Given : str1 = \"Welcome to USA. usa awesome, isn't it?\"\n",
    "#### Output : \"The USA count is: 2\"\n"
   ]
  },
  {
   "cell_type": "code",
   "execution_count": 15,
   "id": "d3aedea0",
   "metadata": {},
   "outputs": [
    {
     "name": "stdout",
     "output_type": "stream",
     "text": [
      "The USA count is : 2\n"
     ]
    }
   ],
   "source": [
    "str1 = \"Welcome to USA. usa awesome, isn't it?\"\n",
    "str11=str1.upper().count(\"USA\")\n",
    "print(\"The USA count is :\",str11)"
   ]
  },
  {
   "cell_type": "markdown",
   "id": "99fe4f10",
   "metadata": {},
   "source": [
    "### 14. Write a program to find the last position of a substring “Emma” in a given string. (Hint : use rfind())\n",
    "#### Given : \"Emma is a data scientist who knows Python. Emma works at google.\"\n",
    "#### Output : 43\n"
   ]
  },
  {
   "cell_type": "code",
   "execution_count": 6,
   "id": "ce2a2ff8",
   "metadata": {},
   "outputs": [
    {
     "data": {
      "text/plain": [
       "43"
      ]
     },
     "execution_count": 6,
     "metadata": {},
     "output_type": "execute_result"
    }
   ],
   "source": [
    "stat=\"Emma is a data scientist who knows Python. Emma works at google.\"\n",
    "statme=stat.find(\"Emma\",20,70)\n",
    "statme"
   ]
  },
  {
   "cell_type": "markdown",
   "id": "7a81d082",
   "metadata": {},
   "source": [
    "### 15. Write a Python program to print the following numbers up to 2 decimal places.\n",
    "#### x =  3.1415926\n",
    "#### y =  12.9999\n"
   ]
  },
  {
   "cell_type": "code",
   "execution_count": 10,
   "id": "bbdc5113",
   "metadata": {},
   "outputs": [
    {
     "data": {
      "text/plain": [
       "'3.14 13.0'"
      ]
     },
     "execution_count": 10,
     "metadata": {},
     "output_type": "execute_result"
    }
   ],
   "source": [
    "w =  3.1415926\n",
    "k =  12.9999\n",
    "ww=round(w,2)\n",
    "kk=round(k,2)\n",
    "str(ww) +\" \"+str(kk)"
   ]
  },
  {
   "cell_type": "markdown",
   "id": "9a18b447",
   "metadata": {},
   "source": [
    "### 16. Write a Python program to remove spaces from a given string and convert it into Uppercase.\n",
    "#### Given : 'n a r a y an a'\n",
    "#### Output : 'NARAYANA'"
   ]
  },
  {
   "cell_type": "code",
   "execution_count": 12,
   "id": "9fb723c5",
   "metadata": {},
   "outputs": [
    {
     "data": {
      "text/plain": [
       "'NARAYANA'"
      ]
     },
     "execution_count": 12,
     "metadata": {},
     "output_type": "execute_result"
    }
   ],
   "source": [
    "Given = 'n a r a y an a'\n",
    "givenn=Given.replace(' ','').upper()\n",
    "\n",
    "givenn"
   ]
  }
 ],
 "metadata": {
  "kernelspec": {
   "display_name": "Python 3 (ipykernel)",
   "language": "python",
   "name": "python3"
  },
  "language_info": {
   "codemirror_mode": {
    "name": "ipython",
    "version": 3
   },
   "file_extension": ".py",
   "mimetype": "text/x-python",
   "name": "python",
   "nbconvert_exporter": "python",
   "pygments_lexer": "ipython3",
   "version": "3.11.5"
  }
 },
 "nbformat": 4,
 "nbformat_minor": 5
}
