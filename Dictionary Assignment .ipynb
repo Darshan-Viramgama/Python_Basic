{
 "cells": [
  {
   "cell_type": "markdown",
   "id": "248c2534",
   "metadata": {},
   "source": [
    "### Write a Python script to sort (ascending and descending) a dictionary by value.\n"
   ]
  },
  {
   "cell_type": "code",
   "execution_count": 8,
   "id": "9d238af5",
   "metadata": {},
   "outputs": [
    {
     "data": {
      "text/plain": [
       "dict_values([10, 20])"
      ]
     },
     "execution_count": 8,
     "metadata": {},
     "output_type": "execute_result"
    }
   ],
   "source": [
    "d={0: 10, 1: 20,2:9,3:23,4:8}\n",
    "d.values()"
   ]
  },
  {
   "cell_type": "markdown",
   "id": "b8a00f47",
   "metadata": {},
   "source": [
    "### Write a Python script to add a key to a dictionary."
   ]
  },
  {
   "cell_type": "code",
   "execution_count": 10,
   "id": "2c198f32",
   "metadata": {},
   "outputs": [
    {
     "data": {
      "text/plain": [
       "{0: 10, 1: 20, 2: 30}"
      ]
     },
     "execution_count": 10,
     "metadata": {},
     "output_type": "execute_result"
    }
   ],
   "source": [
    "d={0: 10, 1: 20}\n",
    "d[2]=30\n",
    "d"
   ]
  },
  {
   "cell_type": "markdown",
   "id": "82bfacce",
   "metadata": {},
   "source": [
    "### Write a Python script to concatenate the following dictionaries to create a new one."
   ]
  },
  {
   "cell_type": "code",
   "execution_count": 4,
   "id": "6bf0354b",
   "metadata": {},
   "outputs": [
    {
     "data": {
      "text/plain": [
       "{1: 10, 2: 20, 3: 30, 4: 40, 5: 50, 6: 60}"
      ]
     },
     "execution_count": 4,
     "metadata": {},
     "output_type": "execute_result"
    }
   ],
   "source": [
    "dic1={1:10, 2:20}\n",
    "dic2={3:30, 4:40}\n",
    "dic3={5:50,6:60}\n",
    "dica={}\n",
    "dica.update(dic1)\n",
    "dica.update(dic2)\n",
    "dica.update(dic3)\n",
    "dica"
   ]
  },
  {
   "cell_type": "markdown",
   "id": "32864e85",
   "metadata": {},
   "source": [
    "### Write a Python script to check whether a given key already exists in a dictionary.If exists then print the value corresponding to that key else print \"key not found\" error message."
   ]
  },
  {
   "cell_type": "code",
   "execution_count": 5,
   "id": "7682e2c8",
   "metadata": {},
   "outputs": [
    {
     "data": {
      "text/plain": [
       "60"
      ]
     },
     "execution_count": 5,
     "metadata": {},
     "output_type": "execute_result"
    }
   ],
   "source": [
    "dica.get(6,\"key not found\")"
   ]
  },
  {
   "cell_type": "markdown",
   "id": "4afa967d",
   "metadata": {},
   "source": [
    "### Write a Python script to generate and print a dictionary that contains a number (between 1 and n) in the form (x, x^3). Take n from user\n",
    " "
   ]
  },
  {
   "cell_type": "code",
   "execution_count": 17,
   "id": "2410f691",
   "metadata": {},
   "outputs": [
    {
     "name": "stdout",
     "output_type": "stream",
     "text": [
      "Enter number: 5\n"
     ]
    },
    {
     "data": {
      "text/plain": [
       "{1: 1, 2: 8, 3: 27, 4: 64, 5: 125}"
      ]
     },
     "execution_count": 17,
     "metadata": {},
     "output_type": "execute_result"
    }
   ],
   "source": [
    "n= int(input(\"Enter number: \"))\n",
    "cube={}\n",
    "for i in range(1,n+1):\n",
    "    cube[i]=i**3\n",
    "cube"
   ]
  },
  {
   "cell_type": "markdown",
   "id": "2a1e7806",
   "metadata": {},
   "source": [
    "### Write a Python script to print a dictionary where the keys are numbers between 1 and 15 (both included) and the values are the square of the keys.\n"
   ]
  },
  {
   "cell_type": "code",
   "execution_count": 18,
   "id": "498ee9f4",
   "metadata": {},
   "outputs": [
    {
     "data": {
      "text/plain": [
       "{1: 1,\n",
       " 2: 4,\n",
       " 3: 9,\n",
       " 4: 16,\n",
       " 5: 25,\n",
       " 6: 36,\n",
       " 7: 49,\n",
       " 8: 64,\n",
       " 9: 81,\n",
       " 10: 100,\n",
       " 11: 121,\n",
       " 12: 144,\n",
       " 13: 169,\n",
       " 14: 196,\n",
       " 15: 225}"
      ]
     },
     "execution_count": 18,
     "metadata": {},
     "output_type": "execute_result"
    }
   ],
   "source": [
    "sqr={}\n",
    "for i in range(1,16):\n",
    "    sqr[i]=i**2\n",
    "sqr"
   ]
  },
  {
   "cell_type": "markdown",
   "id": "7d653cf1",
   "metadata": {},
   "source": [
    "### Convert two lists into a dictionary"
   ]
  },
  {
   "cell_type": "code",
   "execution_count": 19,
   "id": "6fe58866",
   "metadata": {},
   "outputs": [
    {
     "data": {
      "text/plain": [
       "{'Ten': 10, 'Twenty': 20, 'Thirty': 30}"
      ]
     },
     "execution_count": 19,
     "metadata": {},
     "output_type": "execute_result"
    }
   ],
   "source": [
    "keys = ['Ten', 'Twenty', 'Thirty']\n",
    "values = [10, 20, 30]\n",
    "kv={}\n",
    "for i in range(3):\n",
    "    kv[keys[i]]=values[i]\n",
    "kv"
   ]
  },
  {
   "cell_type": "markdown",
   "id": "93d995f1",
   "metadata": {},
   "source": [
    "### Merge two Python dictionaries into one"
   ]
  },
  {
   "cell_type": "code",
   "execution_count": 20,
   "id": "827012f7",
   "metadata": {},
   "outputs": [
    {
     "data": {
      "text/plain": [
       "{'Ten': 10, 'Twenty': 20, 'Thirty': 30, 'Fourty': 40, 'Fifty': 50}"
      ]
     },
     "execution_count": 20,
     "metadata": {},
     "output_type": "execute_result"
    }
   ],
   "source": [
    "dict1 = {'Ten': 10, 'Twenty': 20, 'Thirty': 30}\n",
    "dict2 = {'Thirty': 30, 'Fourty': 40, 'Fifty': 50}\n",
    "dict1.update(dict2)\n",
    "dict1"
   ]
  },
  {
   "cell_type": "markdown",
   "id": "1b96588f",
   "metadata": {},
   "source": [
    "### Delete a list of keys from a dictionary\n"
   ]
  },
  {
   "cell_type": "code",
   "execution_count": 31,
   "id": "0442e247",
   "metadata": {},
   "outputs": [
    {
     "data": {
      "text/plain": [
       "{'age': 25, 'city': 'New york'}"
      ]
     },
     "execution_count": 31,
     "metadata": {},
     "output_type": "execute_result"
    }
   ],
   "source": [
    "sample_dict = {\n",
    "\"name\": \"Kelly\",\n",
    "\"age\": 25,\n",
    "\"salary\": 8000,\n",
    "\"city\": \"New york\"\n",
    "}\n",
    "keys = [\"name\", \"salary\"]\n",
    "for i in keys:\n",
    "    del sample_dict[i]\n",
    "sample_dict"
   ]
  },
  {
   "cell_type": "markdown",
   "id": "bcb14512",
   "metadata": {},
   "source": [
    "### Rename key of a dictionary\n"
   ]
  },
  {
   "cell_type": "code",
   "execution_count": 59,
   "id": "71947a5f",
   "metadata": {},
   "outputs": [
    {
     "data": {
      "text/plain": [
       "{'name': 'Kelly', 'age': 25, 'salary': 8000, 'location': 'New york'}"
      ]
     },
     "execution_count": 59,
     "metadata": {},
     "output_type": "execute_result"
    }
   ],
   "source": [
    "sample_dict = {\n",
    "\"name\": \"Kelly\",\n",
    "\"age\":25,\n",
    "\"salary\": 8000,\n",
    "\"city\": \"New york\"\n",
    "}\n",
    "v=sample_dict.get(\"city\")\n",
    "sample_dict.pop(\"city\")\n",
    "sample_dict.update({'location':v})\n",
    "sample_dict"
   ]
  },
  {
   "cell_type": "markdown",
   "id": "3b92fbb6",
   "metadata": {},
   "source": [
    "### Get the key of a minimum value from the following dictionary"
   ]
  },
  {
   "cell_type": "code",
   "execution_count": 57,
   "id": "4bf3d5ec",
   "metadata": {},
   "outputs": [
    {
     "data": {
      "text/plain": [
       "'Math'"
      ]
     },
     "execution_count": 57,
     "metadata": {},
     "output_type": "execute_result"
    }
   ],
   "source": [
    "t = {\n",
    "'Physics': 82,\n",
    "'Math': 65,\n",
    "'history': 75\n",
    "}\n",
    "v=tuple(t.values())\n",
    "m=v.index(min(v))\n",
    "k=list(t.keys())\n",
    "k[m]"
   ]
  },
  {
   "cell_type": "markdown",
   "id": "92818042",
   "metadata": {},
   "source": [
    "### Write a Python program to change Brad’s salary to 8500 in the following dictionary."
   ]
  },
  {
   "cell_type": "code",
   "execution_count": 7,
   "id": "4d61037e",
   "metadata": {},
   "outputs": [
    {
     "data": {
      "text/plain": [
       "{'emp1': {'name': 'Jhon', 'salary': 7500},\n",
       " 'emp2': {'name': 'Emma', 'salary': 8000},\n",
       " 'emp3': {'name': 'Brad', 'salary': 8500}}"
      ]
     },
     "execution_count": 7,
     "metadata": {},
     "output_type": "execute_result"
    }
   ],
   "source": [
    "sample_dict = {\n",
    "'emp1': {'name': 'Jhon', 'salary': 7500},\n",
    "'emp2': {'name': 'Emma', 'salary': 8000},\n",
    "'emp3': {'name': 'Brad', 'salary': 500}\n",
    "}\n",
    "sample_dict.get('emp3').update({'salary':8500})\n",
    "sample_dict"
   ]
  },
  {
   "cell_type": "markdown",
   "id": "8efb6abc",
   "metadata": {},
   "source": [
    "### Print the value of key ‘history’ from the below dict"
   ]
  },
  {
   "cell_type": "code",
   "execution_count": 10,
   "id": "2a13936e",
   "metadata": {},
   "outputs": [
    {
     "data": {
      "text/plain": [
       "80"
      ]
     },
     "execution_count": 10,
     "metadata": {},
     "output_type": "execute_result"
    }
   ],
   "source": [
    "sampleDict = {\n",
    "\"class\": {\n",
    "\"student\": {\n",
    "\"name\": \"Mike\",\n",
    "\"marks\": {\n",
    "\"physics\": 70,\n",
    "\"history\": 80\n",
    "}\n",
    "}\n",
    "}\n",
    "}\n",
    "sampleDict.get('class').get('student').get('marks').get('history')"
   ]
  },
  {
   "cell_type": "markdown",
   "id": "5d7b26e3",
   "metadata": {},
   "source": [
    "### Write a Python program to combine two dictionary by adding values for common keys."
   ]
  },
  {
   "cell_type": "code",
   "execution_count": 18,
   "id": "ba7d7c18",
   "metadata": {},
   "outputs": [
    {
     "data": {
      "text/plain": [
       "{'a': 400, 'b': 400, 'c': 300, 'd': 400}"
      ]
     },
     "execution_count": 18,
     "metadata": {},
     "output_type": "execute_result"
    }
   ],
   "source": [
    "d1 = {'a': 100, 'b': 200, 'c':300}\n",
    "d2 = {'a': 300, 'b': 200, 'd':400}\n",
    "d11=list(d1.items())\n",
    "d22=list(d2.items())\n",
    "\n",
    "for i in range(len(d11)):\n",
    "    if d11[i][0] ==d22[i][0]:\n",
    "        d1.update({d11[i][0]:d11[i][1]+d22[i][1]})\n",
    "    else:\n",
    "        d1.update({d11[i][0]:d11[i][1]})\n",
    "        d1.update({d22[i][0]:d22[i][1]})\n",
    "d1\n",
    "        \n"
   ]
  },
  {
   "cell_type": "markdown",
   "id": "bc1d81d1",
   "metadata": {},
   "source": [
    "### Write a Python program to print all distinct values in a dictionary."
   ]
  },
  {
   "cell_type": "code",
   "execution_count": 36,
   "id": "00227f10",
   "metadata": {},
   "outputs": [
    {
     "data": {
      "text/plain": [
       "{'S001', 'S002', 'S005', 'S007', 'S009'}"
      ]
     },
     "execution_count": 36,
     "metadata": {},
     "output_type": "execute_result"
    }
   ],
   "source": [
    "s1= [{\"V\":\"S001\"}, {\"V\": \"S002\"}, {\"VI\": \"S001\"}, {\"VI\": \"S005\"}, {\"VII\":\"S005\"}, {\"V\":\"S009\"},{\"VIII\":\"S007\"}]\n",
    "v=[]\n",
    "vv=[]\n",
    "for i in range(len(s1)):\n",
    "    v.append(list(s1[i].values()))\n",
    "    vv.append(v[i][0])\n",
    "vv=set(vv)\n",
    "vv"
   ]
  },
  {
   "cell_type": "markdown",
   "id": "a2e04e31",
   "metadata": {},
   "source": [
    "### Write a Python program to combine values in a list of dictionaries."
   ]
  },
  {
   "cell_type": "code",
   "execution_count": 9,
   "id": "cfb1152d",
   "metadata": {},
   "outputs": [
    {
     "data": {
      "text/plain": [
       "{'item1': 1150, 'item2': 300}"
      ]
     },
     "execution_count": 9,
     "metadata": {},
     "output_type": "execute_result"
    }
   ],
   "source": [
    "d=[{'item': 'item1', 'amount': 400}, {'item': 'item2', 'amount': 300}, {'item': 'item1', 'amount': 750}]\n",
    "dd=[]\n",
    "for i in d:\n",
    "    dd.append(list(i.values()))\n",
    "ddd=[]\n",
    "if dd[0][0]==dd[1][0]:\n",
    "    ddd.append([dd[0][0],dd[0][1]+dd[1][1]])\n",
    "    ddd.append([dd[2][0],dd[2][1]])\n",
    "elif dd[1][0]==dd[2][0]:\n",
    "    ddd.append([dd[1][0],dd[1][1]+dd[2][1]])\n",
    "    ddd.append([dd[0][0],dd[0][1]])\n",
    "elif dd[0][0]==dd[2][0]:\n",
    "    ddd.append([dd[0][0],dd[0][1]+dd[2][1]])\n",
    "    ddd.append([dd[1][0],dd[1][1]])\n",
    "ddd=dict(ddd)\n",
    "ddd"
   ]
  },
  {
   "cell_type": "code",
   "execution_count": 12,
   "id": "8a483c64",
   "metadata": {},
   "outputs": [
    {
     "data": {
      "text/plain": [
       "'item2'"
      ]
     },
     "execution_count": 12,
     "metadata": {},
     "output_type": "execute_result"
    }
   ],
   "source": [
    "dd[1][0]"
   ]
  }
 ],
 "metadata": {
  "kernelspec": {
   "display_name": "Python 3 (ipykernel)",
   "language": "python",
   "name": "python3"
  },
  "language_info": {
   "codemirror_mode": {
    "name": "ipython",
    "version": 3
   },
   "file_extension": ".py",
   "mimetype": "text/x-python",
   "name": "python",
   "nbconvert_exporter": "python",
   "pygments_lexer": "ipython3",
   "version": "3.11.5"
  }
 },
 "nbformat": 4,
 "nbformat_minor": 5
}
