{
 "cells": [
  {
   "cell_type": "markdown",
   "id": "54763b9e",
   "metadata": {},
   "source": [
    "# IF Assignment"
   ]
  },
  {
   "cell_type": "markdown",
   "id": "20712a06",
   "metadata": {},
   "source": [
    "### 1. Write a Python Program to check if a number entered by user is odd or even."
   ]
  },
  {
   "cell_type": "code",
   "execution_count": 1,
   "id": "e92fdd52",
   "metadata": {},
   "outputs": [
    {
     "name": "stdout",
     "output_type": "stream",
     "text": [
      "Enter number: 6\n",
      "6 is even number\n"
     ]
    }
   ],
   "source": [
    "a=int(input(\"Enter number: \"))\n",
    "if a%2==0:\n",
    "    print(f\"{a} is even number\")\n",
    "else:\n",
    "    print(f\"{a} is odd number\")"
   ]
  },
  {
   "cell_type": "markdown",
   "id": "a0a770dd",
   "metadata": {},
   "source": [
    "### 2. Write a Python Program to check if a number entered by user is prime or not."
   ]
  },
  {
   "cell_type": "code",
   "execution_count": 5,
   "id": "bd069d38",
   "metadata": {},
   "outputs": [
    {
     "name": "stdout",
     "output_type": "stream",
     "text": [
      "Enter number: 13\n",
      "Entered number is a prime number\n"
     ]
    }
   ],
   "source": [
    "a=int(input(\"Enter number: \"))\n",
    "p=[]\n",
    "for e in range(1,a):\n",
    "        if a%e == 0:\n",
    "            p.append(e)\n",
    "if len(p)==1:\n",
    "    print(f\"Entered number is a prime number\")\n",
    "else:\n",
    "    print(f\"Entered number is not a prime number\")"
   ]
  },
  {
   "cell_type": "markdown",
   "id": "dd2bcbf3",
   "metadata": {},
   "source": [
    "### 3. Create a Python Program to check whether the given string is palindrome or not."
   ]
  },
  {
   "cell_type": "code",
   "execution_count": 7,
   "id": "a54f04b8",
   "metadata": {},
   "outputs": [
    {
     "name": "stdout",
     "output_type": "stream",
     "text": [
      "Enter a String: Mom\n",
      "MOM is palindrome\n"
     ]
    }
   ],
   "source": [
    "a=input(\"Enter a String: \")\n",
    "a=a.upper()\n",
    "if a== a[::-1]:\n",
    "    print(f\"{a} is palindrome\")"
   ]
  },
  {
   "cell_type": "markdown",
   "id": "77c081d7",
   "metadata": {},
   "source": [
    "### 4. Create a Program that takes sentence as Input and counts the number of words in it."
   ]
  },
  {
   "cell_type": "code",
   "execution_count": 11,
   "id": "1015fcf3",
   "metadata": {},
   "outputs": [
    {
     "name": "stdout",
     "output_type": "stream",
     "text": [
      "Enter a String: hello everyone welcome to the Darshan's world.\n"
     ]
    },
    {
     "data": {
      "text/plain": [
       "7"
      ]
     },
     "execution_count": 11,
     "metadata": {},
     "output_type": "execute_result"
    }
   ],
   "source": [
    "a=input(\"Enter a String: \")\n",
    "aa=a.count(\" \")+1\n",
    "aa"
   ]
  },
  {
   "cell_type": "markdown",
   "id": "9b7b6897",
   "metadata": {},
   "source": [
    "### 5. Given a list of fruits, concatenate them into a single string separated by spaces."
   ]
  },
  {
   "cell_type": "code",
   "execution_count": 12,
   "id": "49f6c4eb",
   "metadata": {},
   "outputs": [
    {
     "data": {
      "text/plain": [
       "'Apple Orange PinPineapple'"
      ]
     },
     "execution_count": 12,
     "metadata": {},
     "output_type": "execute_result"
    }
   ],
   "source": [
    "fruits=[\"Apple\",\"Orange\",\"PinPineapple\"]\n",
    "fruit_salad=fruits[0]+\" \"+fruits[1]+\" \"+fruits[2]\n",
    "fruit_salad"
   ]
  },
  {
   "cell_type": "markdown",
   "id": "bf19861b",
   "metadata": {},
   "source": [
    "### 6. Create a Program that takes a year as input and checks if it is a leap year or not.\n"
   ]
  },
  {
   "cell_type": "code",
   "execution_count": 13,
   "id": "f35840e9",
   "metadata": {},
   "outputs": [
    {
     "name": "stdout",
     "output_type": "stream",
     "text": [
      "Enter a year: 2024\n",
      "2024 is a leap year\n"
     ]
    }
   ],
   "source": [
    "y=int(input(\"Enter a year: \"))\n",
    "if y%4==0:\n",
    "    print(f\"{y} is a leap year\")\n",
    "else:\n",
    "    print(f\"{y} is not a leap year\")"
   ]
  },
  {
   "cell_type": "markdown",
   "id": "e52c3a29",
   "metadata": {},
   "source": [
    "### 7. Given the email id in the form of a string, check if it is gmail id or not.\n"
   ]
  },
  {
   "cell_type": "code",
   "execution_count": 17,
   "id": "e2d0be4e",
   "metadata": {},
   "outputs": [
    {
     "name": "stdout",
     "output_type": "stream",
     "text": [
      "Enter your email id: darshan10402@gmail.com\n",
      "It is a gmail id\n"
     ]
    }
   ],
   "source": [
    "m=input(\"Enter your email id: \")\n",
    "g=\"@gmail.com\"\n",
    "if m[-10:]==g:\n",
    "    print(\"It is a gmail id\")\n",
    "else:\n",
    "    print(\"It is not gmail id\")\n"
   ]
  },
  {
   "cell_type": "markdown",
   "id": "f78b75b6",
   "metadata": {},
   "source": [
    "### 8. Given the email id in the forma of a string, find which domain id it is.\n"
   ]
  },
  {
   "cell_type": "code",
   "execution_count": 22,
   "id": "49fad267",
   "metadata": {},
   "outputs": [
    {
     "name": "stdout",
     "output_type": "stream",
     "text": [
      "Enter your email id: darshan10402@gmail.com\n",
      "It is gmail domain email id\n"
     ]
    }
   ],
   "source": [
    "m=input(\"Enter your email id: \")\n",
    "f= m.find(\"@\")+1\n",
    "mm=m[f:-4]\n",
    "print(f\"It is {mm} domain email id\")"
   ]
  },
  {
   "cell_type": "markdown",
   "id": "bf2f8ba5",
   "metadata": {},
   "source": [
    "### 9. Write a Program that takes a string from user and print that string only if it contains more than 5 characters.\n"
   ]
  },
  {
   "cell_type": "code",
   "execution_count": 2,
   "id": "b02c7e82",
   "metadata": {},
   "outputs": [
    {
     "name": "stdout",
     "output_type": "stream",
     "text": [
      "Enter you name: abc\n",
      "Sorry you are not eligible\n"
     ]
    }
   ],
   "source": [
    "n=input(\"Enter you name: \")\n",
    "if len(n)>=5:\n",
    "    print(f\"Hi {n}\")\n",
    "else:\n",
    "    print(\"Sorry you are not eligible\")"
   ]
  },
  {
   "cell_type": "markdown",
   "id": "e3e2c1e5",
   "metadata": {},
   "source": [
    "### 10. Write a Program to build a calculator based on the operators and the operands given\n"
   ]
  },
  {
   "cell_type": "code",
   "execution_count": 25,
   "id": "032ea504",
   "metadata": {},
   "outputs": [
    {
     "name": "stdout",
     "output_type": "stream",
     "text": [
      "Enter a number: 4\n",
      "Enter a number: 5\n",
      "Answer of addition of 4 and 5 is : 9\n"
     ]
    }
   ],
   "source": [
    "opd1=int(input(\"Enter a number: \"))\n",
    "opd2= int(input(\"Enter a number: \"))\n",
    "print(f'Answer of addition of {opd1} and {opd2} is : {opd1 + opd2}')"
   ]
  },
  {
   "cell_type": "markdown",
   "id": "78d2adc7",
   "metadata": {},
   "source": [
    "### 11. Implement a Program that takes a sentence and a word as Input and checks if the word is present in the sentence (Hint : Use split and membership test operators)"
   ]
  },
  {
   "cell_type": "code",
   "execution_count": 27,
   "id": "52bf9168",
   "metadata": {},
   "outputs": [
    {
     "name": "stdout",
     "output_type": "stream",
     "text": [
      "Enter a sentence: Hello I'm Darshan Viramgama\n",
      "Enter a word: I'm\n",
      "Match found\n"
     ]
    }
   ],
   "source": [
    "a=input(\"Enter a sentence: \")\n",
    "b=input(\"Enter a word: \")\n",
    "aa=a.split(\" \")\n",
    "if b in aa:\n",
    "    print(\"Match found\")\n",
    "else:\n",
    "    print(\"Match not found\")"
   ]
  },
  {
   "cell_type": "markdown",
   "id": "03ce50f0",
   "metadata": {},
   "source": [
    "### 12. Write a Program which takes a number from the user and find whether that number is divisible by 7 and multiples of 5 or not.\n"
   ]
  },
  {
   "cell_type": "code",
   "execution_count": 29,
   "id": "1f09371e",
   "metadata": {},
   "outputs": [
    {
     "name": "stdout",
     "output_type": "stream",
     "text": [
      "Enter a number: 465\n",
      "No, 465 is not divisible by 7 and not multiples of 5\n"
     ]
    }
   ],
   "source": [
    "o=int(input(\"Enter a number: \"))\n",
    "if o%7==0 and o%5==0:\n",
    "    print(f\"Yes, {o} is divisible by 7 and multiples of 5\")\n",
    "else:\n",
    "    print(f\"No, {o} is not divisible by 7 and not multiples of 5\")"
   ]
  },
  {
   "cell_type": "markdown",
   "id": "3d20f7e5",
   "metadata": {},
   "source": [
    "### 13. Write a Python program to check whether an alphabet is a vowel or consonant.\n"
   ]
  },
  {
   "cell_type": "code",
   "execution_count": 30,
   "id": "85825a27",
   "metadata": {},
   "outputs": [
    {
     "name": "stdout",
     "output_type": "stream",
     "text": [
      "Enter a letter: d\n",
      "d is a constant\n"
     ]
    }
   ],
   "source": [
    "opd1=input(\"Enter a letter: \")\n",
    "vow=[\"a\",\"e\",\"i\",'o','u']\n",
    "if opd1 in vow:\n",
    "    print(f\"{opd1} is a vowel\")\n",
    "else:\n",
    "    print(f\"{opd1} is a constant\")"
   ]
  },
  {
   "cell_type": "markdown",
   "id": "343c195f",
   "metadata": {},
   "source": [
    "### 14. Write a Python program to sum two integers. However, if the sum is between 15 and 20 it will print 20.\n"
   ]
  },
  {
   "cell_type": "code",
   "execution_count": 2,
   "id": "02c42ded",
   "metadata": {},
   "outputs": [
    {
     "name": "stdout",
     "output_type": "stream",
     "text": [
      "Enter a number: 12\n",
      "Enter a number: 5\n",
      "20\n"
     ]
    }
   ],
   "source": [
    "opd1=int(input(\"Enter a number: \"))\n",
    "opd2=int(input(\"Enter a number: \"))\n",
    "sum=opd1+opd2\n",
    "if sum<=20 and sum>=15:\n",
    "    print(20)\n",
    "else:\n",
    "    print(sum)"
   ]
  },
  {
   "cell_type": "markdown",
   "id": "0b5de00b",
   "metadata": {},
   "source": [
    "### 15. Write a Python program to check if a triangle is equilateral, isosceles or scalene.\n",
    "#### Note :\n",
    "#### An equilateral triangle is a triangle in which all three sides are equal.\n",
    "#### A scalene triangle is a triangle that has three unequal sides.\n",
    "#### An isosceles triangle is a triangle with (at least) two equal sides.\n"
   ]
  },
  {
   "cell_type": "code",
   "execution_count": 32,
   "id": "128fbcab",
   "metadata": {},
   "outputs": [
    {
     "name": "stdout",
     "output_type": "stream",
     "text": [
      "Enter a side: 3\n",
      "Enter a side: 3\n",
      "Enter a side: 4\n",
      "isosceles triangle\n"
     ]
    }
   ],
   "source": [
    "a=int(input(\"Enter a side: \"))\n",
    "b=int(input(\"Enter a side: \"))\n",
    "c=int(input(\"Enter a side: \"))\n",
    "if a==b and b==c and a==c:\n",
    "    print(\"equilateral triangle\")\n",
    "elif a!=b and b!=c and a!=c:\n",
    "    print(\"scalene triangle\")\n",
    "else:\n",
    "    print(\"isosceles triangle\")"
   ]
  },
  {
   "cell_type": "markdown",
   "id": "2c3574b9",
   "metadata": {},
   "source": [
    "### 16. Write a Python program to display the astrological sign for a given date of birth.\n",
    "##### Aries: March 21 - April 19\n",
    "##### Taurus: April 20 - May 20\n",
    "##### Gemini: May 21 - June 20\n",
    "##### Cancer: June 21 - July 22\n",
    "##### Leo: July 23 - August 22\n",
    "##### Virgo: August 23 - September 22\n",
    "##### Libra: September 23 - October 22\n",
    "##### Scorpio: October 23 - November 21\n",
    "##### Sagittarius: November 22 - December 21\n",
    "##### Capricorn: December 22 - January 19\n",
    "##### Aquarius: January 20 - February 18\n",
    "##### Pisces: February 19 - March 20\n"
   ]
  },
  {
   "cell_type": "code",
   "execution_count": 2,
   "id": "14bcc7b9",
   "metadata": {},
   "outputs": [
    {
     "name": "stdout",
     "output_type": "stream",
     "text": [
      "Enter Day of Month 50\n",
      "Enter Month: march\n",
      "Please enter a valid date.\n"
     ]
    }
   ],
   "source": [
    "d=int(input(\"Enter Day of Month \"))\n",
    "m=input(\"Enter Month: \")\n",
    "if d>31:\n",
    "    print(\"Please enter a valid date.\")\n",
    "elif (d>=21 and m==\"march\") or (d<=19 and m== \"april\"):\n",
    "    print(\"Aries\")\n",
    "elif (d>=20 and m==\"april\") or (d<=20 and m ==\"may\"):\n",
    "    print(\"Taurus\")\n",
    "elif (d>=21 and m==\"may\") or (d<=20 and m==\"june\"):\n",
    "    print(\"Gemini\")\n",
    "elif (d>=21 and m==\"june\") or (d<=22 and m==\"july\"):\n",
    "    print(\"Cancer\")\n",
    "elif (d>=23 and m==\"july\") or (d<=22 and m==\"august\"):\n",
    "    print(\"Leo\")\n",
    "elif (d>=23 and m==\"august\") or (d<=22 and m==\"september\"):\n",
    "    print(\"Virgo\")\n",
    "elif (d>=23 and m==\"september\") or (d<=22 and m==\"october\"):\n",
    "    print(\"Libra\")\n",
    "elif (d>=23 and m==\"october\") or (d<=21 and m==\"november\"):\n",
    "    print(\"Scorpio\")\n",
    "elif (d>=22 and m==\"november\") or (d<=21 and m==\"december\"):\n",
    "    print(\"Sagittarius\")\n",
    "elif (d>=22 and m==\"december\") or (d<=19 and m==\"january\"):\n",
    "    print(\"Capricorn\")\n",
    "elif (d>=20 and m==\"january\") or (d<=18 and m==\"february\"):\n",
    "    print(\"Aquarius\")\n",
    "elif (d>=19 and m==\"february\") or (d<=20 and m==\"march\"):\n",
    "    print(\"Pisces\")\n",
    "\n",
    "    \n"
   ]
  },
  {
   "cell_type": "markdown",
   "id": "6ec25dd1",
   "metadata": {},
   "source": [
    "### 17. Write a Python program to find the median of three values.\n"
   ]
  },
  {
   "cell_type": "code",
   "execution_count": 8,
   "id": "d4d07c99",
   "metadata": {},
   "outputs": [
    {
     "name": "stdout",
     "output_type": "stream",
     "text": [
      "Input first number: 43\n",
      "Input second number: 45\n",
      "Input third number: 65\n",
      "Median is 45\n"
     ]
    }
   ],
   "source": [
    "a=int(input(\"Input first number: \"))\n",
    "b=int(input(\"Input second number: \"))\n",
    "c=int(input(\"Input third number: \"))\n",
    "d=[a,b,c]\n",
    "d.sort\n",
    "e=int(((len(d)+1)/2)-1)\n",
    "m=d[e]\n",
    "print(f\"Median is {m}\")"
   ]
  },
  {
   "cell_type": "markdown",
   "id": "c9d2f4c2",
   "metadata": {},
   "source": [
    "### 18. A company decided to give bonus of 5% to employee if his/her year of service is more than 5 years.\n",
    "#### Ask user for their salary and year of service and print the net bonus amount.\n"
   ]
  },
  {
   "cell_type": "code",
   "execution_count": 9,
   "id": "e1915bcb",
   "metadata": {},
   "outputs": [
    {
     "name": "stdout",
     "output_type": "stream",
     "text": [
      "Your salary: 600000\n",
      "Your year: 7\n",
      "Your bonus is: 30000.0\n"
     ]
    }
   ],
   "source": [
    "s=int(input(\"Your salary: \"))\n",
    "y=int(input(\"Your year: \"))\n",
    "if y>5:\n",
    "    print(f\"Your bonus is: {s*0.05}\")\n",
    "else:\n",
    "    print(\"Sorry, you are not eligible for bonus!\")"
   ]
  },
  {
   "cell_type": "markdown",
   "id": "5360b41f",
   "metadata": {},
   "source": [
    "### 19. NBS has following rules for grading system:\n",
    "### a. Below 25 - F\n",
    "### b. 25 to 45 - E\n",
    "### c. 45 to 50 - D\n",
    "### d. 50 to 60 - C\n",
    "### e. 60 to 80 - B\n",
    "### f. Above 80 - A\n",
    "### Ask user to enter marks and print the corresponding grade.\n"
   ]
  },
  {
   "cell_type": "code",
   "execution_count": 10,
   "id": "e1b026b2",
   "metadata": {},
   "outputs": [
    {
     "name": "stdout",
     "output_type": "stream",
     "text": [
      "Your marks: 80\n",
      "A\n"
     ]
    }
   ],
   "source": [
    "s=int(input(\"Your marks: \"))\n",
    "if s<25:\n",
    "    print(\"F\")\n",
    "elif s<45:\n",
    "    print(\"E\")\n",
    "elif s<50:\n",
    "    print(\"D\")\n",
    "elif s<60:\n",
    "    print(\"C\")\n",
    "elif s<80:\n",
    "    print(\"B\")\n",
    "else:\n",
    "    print(\"A\")"
   ]
  },
  {
   "cell_type": "markdown",
   "id": "14d584b2",
   "metadata": {},
   "source": [
    "### 20. Write a program to print absolute vlaue of a number entered by user. E.g.-\n"
   ]
  },
  {
   "cell_type": "code",
   "execution_count": 11,
   "id": "317f041a",
   "metadata": {},
   "outputs": [
    {
     "name": "stdout",
     "output_type": "stream",
     "text": [
      "Your number: -8\n"
     ]
    },
    {
     "data": {
      "text/plain": [
       "8"
      ]
     },
     "execution_count": 11,
     "metadata": {},
     "output_type": "execute_result"
    }
   ],
   "source": [
    "s=int(input(\"Your number: \"))\n",
    "s=abs(s)\n",
    "s"
   ]
  },
  {
   "cell_type": "markdown",
   "id": "190a3e8c",
   "metadata": {},
   "source": [
    "### 21. A student will not be allowed to sit in exam if his/her attendence is less than 75%.\n",
    "### Take following input from user:\n",
    "### Number of classes held\n",
    "### Number of classes attended.\n"
   ]
  },
  {
   "cell_type": "code",
   "execution_count": 12,
   "id": "77ffa9af",
   "metadata": {},
   "outputs": [
    {
     "name": "stdout",
     "output_type": "stream",
     "text": [
      "Enter number of total class held:50\n",
      "Enter number of total class attended:36\n",
      "Not eligible for exam\n"
     ]
    }
   ],
   "source": [
    "classheld=int(input(\"Enter number of total class held:\"))\n",
    "classattend=int(input(\"Enter number of total class attended:\"))\n",
    "Percentattend=classattend/classheld*100\n",
    "if Percentattend>75:\n",
    "    print(\"Eligible for exam\")\n",
    "else:\n",
    "    print('Not eligible for exam')"
   ]
  },
  {
   "cell_type": "markdown",
   "id": "a9fa1a10",
   "metadata": {},
   "source": [
    "### 22. Take values of length and breadth of a rectangle from user and check if it is square or not.\n"
   ]
  },
  {
   "cell_type": "code",
   "execution_count": 13,
   "id": "976467e9",
   "metadata": {},
   "outputs": [
    {
     "name": "stdout",
     "output_type": "stream",
     "text": [
      "Enter Length5\n",
      "Enter breadth5\n",
      "Its Square\n"
     ]
    }
   ],
   "source": [
    "leng=int(input(\"Enter Length\"))\n",
    "bret=int(input(\"Enter breadth\"))\n",
    "if leng==bret:\n",
    "    print(\"Its Square\")\n",
    "else:\n",
    "    print(\"Its Rectangle\")"
   ]
  },
  {
   "cell_type": "markdown",
   "id": "a7f9a2ea",
   "metadata": {},
   "source": [
    "### 23. Take two int values from user and print greatest among them.\n"
   ]
  },
  {
   "cell_type": "code",
   "execution_count": 14,
   "id": "e6bb1846",
   "metadata": {},
   "outputs": [
    {
     "name": "stdout",
     "output_type": "stream",
     "text": [
      "Your number: 99\n",
      "Your number: 98\n",
      "99\n"
     ]
    }
   ],
   "source": [
    "s=int(input(\"Your number: \"))\n",
    "t=int(input(\"Your number: \"))\n",
    "if s>t:\n",
    "    print(s)\n",
    "else:\n",
    "    print(t)"
   ]
  },
  {
   "cell_type": "markdown",
   "id": "34938af4",
   "metadata": {},
   "source": [
    "### 24. Take input of age of 3 people by user and determine oldest and youngest among them.\n"
   ]
  },
  {
   "cell_type": "code",
   "execution_count": 15,
   "id": "a6f45d62",
   "metadata": {},
   "outputs": [
    {
     "name": "stdout",
     "output_type": "stream",
     "text": [
      "Your age: 23\n",
      "Your age: 24\n",
      "Your age: 22\n",
      "T is oldest\n",
      "D is youngest\n"
     ]
    }
   ],
   "source": [
    "s=int(input(\"Your age: \"))\n",
    "t=int(input(\"Your age: \"))\n",
    "d=int(input(\"Your age: \"))\n",
    "if s>t and s>d:\n",
    "    print(\"S is oldest\")\n",
    "elif t>s and t>d:\n",
    "    print(\"T is oldest\")\n",
    "else:\n",
    "    print(\"D is oldest\")\n",
    "if s<t and s<d:\n",
    "    print(\"S is youngest\")\n",
    "elif t<s and t<d:\n",
    "    print(\"T is youngest\")\n",
    "else:\n",
    "    print(\"D is youngest\")\n"
   ]
  },
  {
   "cell_type": "markdown",
   "id": "ae596447",
   "metadata": {},
   "source": [
    "### 25. Write a Program to print \"Hello\" if a number entered by user is divisible by 7 otherwise print \"Bye\""
   ]
  },
  {
   "cell_type": "code",
   "execution_count": 16,
   "id": "39f5c824",
   "metadata": {},
   "outputs": [
    {
     "name": "stdout",
     "output_type": "stream",
     "text": [
      "Enter a number: 35\n",
      "Hello\n"
     ]
    }
   ],
   "source": [
    "o=int(input(\"Enter a number: \"))\n",
    "if o%7==0:\n",
    "    print(\"Hello\")\n",
    "else:\n",
    "    print(\"Bye\")"
   ]
  },
  {
   "cell_type": "code",
   "execution_count": null,
   "id": "f2dcf21e",
   "metadata": {},
   "outputs": [],
   "source": []
  }
 ],
 "metadata": {
  "kernelspec": {
   "display_name": "Python 3 (ipykernel)",
   "language": "python",
   "name": "python3"
  },
  "language_info": {
   "codemirror_mode": {
    "name": "ipython",
    "version": 3
   },
   "file_extension": ".py",
   "mimetype": "text/x-python",
   "name": "python",
   "nbconvert_exporter": "python",
   "pygments_lexer": "ipython3",
   "version": "3.11.5"
  }
 },
 "nbformat": 4,
 "nbformat_minor": 5
}
